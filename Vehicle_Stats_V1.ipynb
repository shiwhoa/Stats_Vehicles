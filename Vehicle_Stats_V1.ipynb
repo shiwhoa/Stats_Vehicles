{
 "cells": [
  {
   "cell_type": "markdown",
   "metadata": {},
   "source": [
    "### Python Version and server connection"
   ]
  },
  {
   "cell_type": "code",
   "execution_count": 277,
   "metadata": {},
   "outputs": [
    {
     "name": "stdout",
     "output_type": "stream",
     "text": [
      "3.6.13 |Anaconda, Inc.| (default, Mar 16 2021, 11:37:27) [MSC v.1916 64 bit (AMD64)]\n"
     ]
    }
   ],
   "source": [
    "import sys\n",
    "print(sys.version)"
   ]
  },
  {
   "cell_type": "markdown",
   "metadata": {},
   "source": [
    "### Working Location"
   ]
  },
  {
   "cell_type": "code",
   "execution_count": 278,
   "metadata": {},
   "outputs": [
    {
     "name": "stdout",
     "output_type": "stream",
     "text": [
      "c:\\Users\\Shiva\\Documents\\TTU Mods\\LeetCode\n",
      "['apply.ipynb', 'atoi.py', 'binaryConvert.py', 'chipotle.tsv.txt', 'dacMergeSort.py', 'dictVsListVsEnumList.py', 'EDA_housing.ipynb', 'filter.ipynb', 'findMedianSortedArrays.py', 'housing.csv', 'karatsubaMultiply.py', 'lengthOfLongestSubstring.py', 'longestPalindrome.py', 'map.ipynb', 'neuralnet.ipynb', 'neuralnets.py', 'NPHard.py', 'regex.ipynb', 'reverseInteger.py', 'test.py', 'test1.ipynb', 'test1.py', 'test3.xlsx', 'Text Generation.ipynb', 'top_25_pandas_tricks.ipynb', 'twoSum_2.py', 'twoSum_args.py', 'twoSum_call.py', 'twoSum_delitem.py', 'twoSum_getitem.py', 'twoSum_hash.py', 'twoSum_init.py', 'twoSum_method2.py', 'twoSum_setitem.py', 'twoSum_setitem_2.py', 'twoSum_str.py', 'vehicles.csv', 'vehicles.csv.zip', 'Vehicle_EDA_V1.ipynb', 'zigZag.py', '__pycache__']\n"
     ]
    }
   ],
   "source": [
    "import os\n",
    "os.chdir(\"C:\\\\Users\\Shiva\\Documents\\TTU Mods\\Leetcode\")\n",
    "print(os.getcwd())\n",
    "print(os.listdir())"
   ]
  },
  {
   "cell_type": "markdown",
   "metadata": {},
   "source": [
    "### Libraries"
   ]
  },
  {
   "cell_type": "code",
   "execution_count": 279,
   "metadata": {},
   "outputs": [],
   "source": [
    "# Import Libraries\n",
    "import numpy as np\n",
    "import pandas as pd\n",
    "import matplotlib.pyplot as plt\n",
    "import seaborn as sns\n",
    "import datetime"
   ]
  },
  {
   "cell_type": "markdown",
   "metadata": {},
   "source": [
    "### Read"
   ]
  },
  {
   "cell_type": "code",
   "execution_count": 280,
   "metadata": {},
   "outputs": [
    {
     "name": "stderr",
     "output_type": "stream",
     "text": [
      "C:\\Users\\Shiva\\.conda\\envs\\nlp_env\\lib\\site-packages\\IPython\\core\\interactiveshell.py:3072: DtypeWarning: Columns (68,70,71,72,73,74,76,79) have mixed types.Specify dtype option on import or set low_memory=False.\n",
      "  interactivity=interactivity, compiler=compiler, result=result)\n"
     ]
    }
   ],
   "source": [
    "# Read excel file\n",
    "idf = pd.read_csv(\"vehicles.csv\", header = 0, index_col= None)"
   ]
  },
  {
   "cell_type": "markdown",
   "metadata": {},
   "source": [
    "Inspect dataframe"
   ]
  },
  {
   "cell_type": "code",
   "execution_count": 281,
   "metadata": {},
   "outputs": [
    {
     "data": {
      "text/plain": [
       "(41144, 83)"
      ]
     },
     "execution_count": 281,
     "metadata": {},
     "output_type": "execute_result"
    }
   ],
   "source": [
    "(len(idf.index),\n",
    "len(idf.columns))\n",
    "# 83 columns is too many -> see the types of columns"
   ]
  },
  {
   "cell_type": "markdown",
   "metadata": {},
   "source": [
    "Preserving original dataframe and Col name cleanup and "
   ]
  },
  {
   "cell_type": "code",
   "execution_count": 282,
   "metadata": {},
   "outputs": [],
   "source": [
    "def start_pipeline(idf):\n",
    "    df_1 = pd.DataFrame(idf).copy()\n",
    "    return df_1\n",
    "\n",
    "def clean_col_names(df_1):\n",
    "    df_1 = pd.DataFrame(df_1)\n",
    "    df_1.columns = df_1.columns.str.replace(' ', '_')\n",
    "    return df_1"
   ]
  },
  {
   "cell_type": "code",
   "execution_count": 283,
   "metadata": {},
   "outputs": [],
   "source": [
    "missing_data_tuning_param = 0.30\n",
    "low_cardinality_tuning_param = 0.75\n",
    "high_cardinality_tuning_param = 0.10"
   ]
  },
  {
   "cell_type": "markdown",
   "metadata": {},
   "source": [
    "Filter on Missing data"
   ]
  },
  {
   "cell_type": "code",
   "execution_count": 284,
   "metadata": {},
   "outputs": [],
   "source": [
    "df_1 = (idf\n",
    ".pipe(start_pipeline)\n",
    ".pipe(clean_col_names)\n",
    ")\n"
   ]
  },
  {
   "cell_type": "code",
   "execution_count": 285,
   "metadata": {},
   "outputs": [
    {
     "data": {
      "text/plain": [
       "Index(['drive', 'eng_dscr', 'fuelType', 'fuelType1', 'make', 'model',\n",
       "       'mpgData', 'trany', 'VClass', 'guzzler', 'trans_dscr', 'tCharger',\n",
       "       'sCharger', 'atvType', 'fuelType2', 'rangeA', 'evMotor', 'mfrCode',\n",
       "       'c240Dscr', 'c240bDscr', 'createdOn', 'modifiedOn', 'startStop'],\n",
       "      dtype='object')"
      ]
     },
     "execution_count": 285,
     "metadata": {},
     "output_type": "execute_result"
    }
   ],
   "source": [
    "df_1.select_dtypes('O').columns"
   ]
  },
  {
   "cell_type": "code",
   "execution_count": 286,
   "metadata": {},
   "outputs": [],
   "source": [
    "def change_dtypes(df, col_list, type):\n",
    "    df = pd.DataFrame(df)\n",
    "    print(col_list)\n",
    "    for col in col_list:\n",
    "        df.loc[:,col] = df.loc[:,col].astype(type)\n",
    "    return df"
   ]
  },
  {
   "cell_type": "code",
   "execution_count": 287,
   "metadata": {},
   "outputs": [
    {
     "name": "stdout",
     "output_type": "stream",
     "text": [
      "Index(['drive', 'eng_dscr', 'fuelType', 'fuelType1', 'make', 'model',\n",
      "       'mpgData', 'trany', 'VClass', 'guzzler', 'trans_dscr', 'tCharger',\n",
      "       'sCharger', 'atvType', 'fuelType2', 'rangeA', 'evMotor', 'mfrCode',\n",
      "       'c240Dscr', 'c240bDscr', 'createdOn', 'modifiedOn', 'startStop'],\n",
      "      dtype='object')\n"
     ]
    }
   ],
   "source": [
    "df_1 = change_dtypes(df_1, df_1.select_dtypes('O').columns, 'category')"
   ]
  },
  {
   "cell_type": "code",
   "execution_count": 288,
   "metadata": {},
   "outputs": [
    {
     "data": {
      "text/plain": [
       "Index(['drive', 'eng_dscr', 'fuelType', 'fuelType1', 'make', 'model',\n",
       "       'mpgData', 'trany', 'VClass', 'guzzler', 'trans_dscr', 'tCharger',\n",
       "       'sCharger', 'atvType', 'fuelType2', 'rangeA', 'evMotor', 'mfrCode',\n",
       "       'c240Dscr', 'c240bDscr', 'createdOn', 'modifiedOn', 'startStop'],\n",
       "      dtype='object')"
      ]
     },
     "execution_count": 288,
     "metadata": {},
     "output_type": "execute_result"
    }
   ],
   "source": [
    "df_1.select_dtypes('category').columns"
   ]
  },
  {
   "cell_type": "code",
   "execution_count": 289,
   "metadata": {},
   "outputs": [],
   "source": [
    "def count_missing_data(df_1):\n",
    "    df_1 = pd.DataFrame(df_1)\n",
    "    \n",
    "    df_2 = df_1.isnull().sum().sort_values(ascending= False)\n",
    "    df_2 = pd.DataFrame(df_2.reset_index())\n",
    "    df_2.columns.values[0] = 'feature'\n",
    "    df_2.columns.values[1] = 'null_counts'\n",
    "    # df_2.rename(columns= {'index': 'col_name', 0: 'null_count'}, inplace=True)\n",
    "    df_2['sum_null_counts'] = df_2['null_counts']/len(df_1.index)\n",
    "    # print(df_2[df_2['sum_null_counts'] > 0.45])\n",
    "    \n",
    "    \n",
    "    return df_2[df_2['sum_null_counts'] > missing_data_tuning_param]['feature']\n",
    "\n",
    "def append_missing_data_list(df_1):\n",
    "    df_1 = pd.DataFrame(df_1)\n",
    "    drop_feature = count_missing_data(df_1)\n",
    "    df_1.drop(columns=drop_feature, inplace= True)\n",
    "    return df_1"
   ]
  },
  {
   "cell_type": "code",
   "execution_count": 290,
   "metadata": {},
   "outputs": [],
   "source": [
    "df_1 = append_missing_data_list(df_1) "
   ]
  },
  {
   "cell_type": "markdown",
   "metadata": {},
   "source": [
    "Filter on Cardinality"
   ]
  },
  {
   "cell_type": "code",
   "execution_count": 291,
   "metadata": {},
   "outputs": [],
   "source": [
    "def low_cardinality(df_1, col_num):\n",
    "    df_1 = pd.DataFrame(df_1)\n",
    "    df_2 =(df_1.iloc[:,col_num].value_counts().reset_index())\n",
    "    df_2.columns.values[0] = 'feature'\n",
    "    df_2.columns.values[1] = 'counts'\n",
    "    # df_2.rename(columns= {0:'feature', 1:'counts'}, inplace = True\n",
    "    df_2['sum_counts'] = df_2['counts']/df_2['counts'].sum()\n",
    "    return df_2[df_2['sum_counts']>low_cardinality_tuning_param].empty # more than ## remove\n",
    "\n",
    "\n",
    "def append_low_cardinality_list(df_1):\n",
    "    df_1 = pd.DataFrame(df_1)\n",
    "    bool_vec = []\n",
    "    col_list = df_1.select_dtypes('category').columns\n",
    "    cat_col_num = [df_1.columns.get_loc(cat_col) for cat_col in df_1.select_dtypes('category').columns]\n",
    "    for col_num in range(0, len(df_1.columns), 1):\n",
    "        if col_num in cat_col_num:\n",
    "            bool_vec.append(high_cardinality(df_1, col_num))\n",
    "        else:\n",
    "            bool_vec.append(True)\n",
    "            # None\n",
    "    return df_1.loc[:, bool_vec]"
   ]
  },
  {
   "cell_type": "code",
   "execution_count": 292,
   "metadata": {},
   "outputs": [],
   "source": [
    "def high_cardinality(df_1, col_num):\n",
    "    df_1 = pd.DataFrame(df_1)\n",
    "    df_2 =(df_1.iloc[:,col_num].value_counts().reset_index())\n",
    "    df_2.columns.values[0] = 'feature'\n",
    "    df_2.columns.values[1] = 'counts'\n",
    "    df_2['sum_counts'] = df_2['counts']/df_2['counts'].sum()\n",
    "\n",
    "    return not df_2[df_2['sum_counts']>high_cardinality_tuning_param].empty # more than ## keep\n",
    "\n",
    "\n",
    "def append_high_cardinality_list(df_1):\n",
    "    df_1 = pd.DataFrame(df_1)\n",
    "    bool_vec = []\n",
    "    col_list = df_1.select_dtypes('category').columns\n",
    "    cat_col_num = [df_1.columns.get_loc(cat_col) for cat_col in df_1.select_dtypes('category').columns]\n",
    "    for col_num in range(0, len(df_1.columns), 1):\n",
    "        if col_num in cat_col_num:\n",
    "            bool_vec.append(high_cardinality(df_1, col_num))\n",
    "        else:\n",
    "            bool_vec.append(True)\n",
    "            # None\n",
    "    return df_1.loc[:, bool_vec]"
   ]
  },
  {
   "cell_type": "code",
   "execution_count": 293,
   "metadata": {},
   "outputs": [
    {
     "data": {
      "text/plain": [
       "Index(['drive', 'fuelType', 'fuelType1', 'make', 'model', 'mpgData', 'trany',\n",
       "       'VClass', 'createdOn', 'modifiedOn'],\n",
       "      dtype='object')"
      ]
     },
     "execution_count": 293,
     "metadata": {},
     "output_type": "execute_result"
    }
   ],
   "source": [
    "df_1.select_dtypes('category').columns"
   ]
  },
  {
   "cell_type": "code",
   "execution_count": 294,
   "metadata": {},
   "outputs": [],
   "source": [
    "df_1 = append_high_cardinality_list(df_1)\n",
    "df_1 = append_low_cardinality_list(df_1)"
   ]
  },
  {
   "cell_type": "code",
   "execution_count": 295,
   "metadata": {},
   "outputs": [
    {
     "data": {
      "text/plain": [
       "Index(['drive', 'fuelType', 'fuelType1', 'mpgData', 'trany', 'VClass',\n",
       "       'createdOn', 'modifiedOn'],\n",
       "      dtype='object')"
      ]
     },
     "execution_count": 295,
     "metadata": {},
     "output_type": "execute_result"
    }
   ],
   "source": [
    "df_1.select_dtypes('category').columns"
   ]
  },
  {
   "cell_type": "markdown",
   "metadata": {},
   "source": [
    "Filter on Dtypes"
   ]
  },
  {
   "cell_type": "code",
   "execution_count": 296,
   "metadata": {},
   "outputs": [
    {
     "data": {
      "text/plain": [
       "float64     32\n",
       "int64       27\n",
       "bool         1\n",
       "category     1\n",
       "category     1\n",
       "category     1\n",
       "category     1\n",
       "category     1\n",
       "category     1\n",
       "category     1\n",
       "category     1\n",
       "dtype: int64"
      ]
     },
     "execution_count": 296,
     "metadata": {},
     "output_type": "execute_result"
    }
   ],
   "source": [
    "df_1.dtypes.value_counts()"
   ]
  },
  {
   "cell_type": "code",
   "execution_count": 297,
   "metadata": {},
   "outputs": [
    {
     "data": {
      "text/plain": [
       "68"
      ]
     },
     "execution_count": 297,
     "metadata": {},
     "output_type": "execute_result"
    }
   ],
   "source": [
    "len(df_1.columns)"
   ]
  },
  {
   "cell_type": "code",
   "execution_count": 298,
   "metadata": {},
   "outputs": [
    {
     "data": {
      "text/html": [
       "<div>\n",
       "<style scoped>\n",
       "    .dataframe tbody tr th:only-of-type {\n",
       "        vertical-align: middle;\n",
       "    }\n",
       "\n",
       "    .dataframe tbody tr th {\n",
       "        vertical-align: top;\n",
       "    }\n",
       "\n",
       "    .dataframe thead th {\n",
       "        text-align: right;\n",
       "    }\n",
       "</style>\n",
       "<table border=\"1\" class=\"dataframe\">\n",
       "  <thead>\n",
       "    <tr style=\"text-align: right;\">\n",
       "      <th></th>\n",
       "    </tr>\n",
       "  </thead>\n",
       "  <tbody>\n",
       "    <tr>\n",
       "      <th>0</th>\n",
       "    </tr>\n",
       "    <tr>\n",
       "      <th>1</th>\n",
       "    </tr>\n",
       "    <tr>\n",
       "      <th>2</th>\n",
       "    </tr>\n",
       "    <tr>\n",
       "      <th>3</th>\n",
       "    </tr>\n",
       "    <tr>\n",
       "      <th>4</th>\n",
       "    </tr>\n",
       "  </tbody>\n",
       "</table>\n",
       "</div>"
      ],
      "text/plain": [
       "Empty DataFrame\n",
       "Columns: []\n",
       "Index: [0, 1, 2, 3, 4]"
      ]
     },
     "execution_count": 298,
     "metadata": {},
     "output_type": "execute_result"
    }
   ],
   "source": [
    "df_1.select_dtypes(include = 'O').head()"
   ]
  },
  {
   "cell_type": "code",
   "execution_count": 299,
   "metadata": {},
   "outputs": [
    {
     "data": {
      "text/html": [
       "<div>\n",
       "<style scoped>\n",
       "    .dataframe tbody tr th:only-of-type {\n",
       "        vertical-align: middle;\n",
       "    }\n",
       "\n",
       "    .dataframe tbody tr th {\n",
       "        vertical-align: top;\n",
       "    }\n",
       "\n",
       "    .dataframe thead th {\n",
       "        text-align: right;\n",
       "    }\n",
       "</style>\n",
       "<table border=\"1\" class=\"dataframe\">\n",
       "  <thead>\n",
       "    <tr style=\"text-align: right;\">\n",
       "      <th></th>\n",
       "      <th>barrels08</th>\n",
       "      <th>barrelsA08</th>\n",
       "      <th>charge120</th>\n",
       "      <th>charge240</th>\n",
       "      <th>city08</th>\n",
       "      <th>city08U</th>\n",
       "      <th>cityA08</th>\n",
       "      <th>cityA08U</th>\n",
       "      <th>cityCD</th>\n",
       "      <th>cityE</th>\n",
       "      <th>...</th>\n",
       "      <th>UCity</th>\n",
       "      <th>UCityA</th>\n",
       "      <th>UHighway</th>\n",
       "      <th>UHighwayA</th>\n",
       "      <th>year</th>\n",
       "      <th>youSaveSpend</th>\n",
       "      <th>charge240b</th>\n",
       "      <th>phevCity</th>\n",
       "      <th>phevHwy</th>\n",
       "      <th>phevComb</th>\n",
       "    </tr>\n",
       "  </thead>\n",
       "  <tbody>\n",
       "    <tr>\n",
       "      <th>0</th>\n",
       "      <td>15.695714</td>\n",
       "      <td>0.0</td>\n",
       "      <td>0.0</td>\n",
       "      <td>0.0</td>\n",
       "      <td>19</td>\n",
       "      <td>0.0</td>\n",
       "      <td>0</td>\n",
       "      <td>0.0</td>\n",
       "      <td>0.0</td>\n",
       "      <td>0.0</td>\n",
       "      <td>...</td>\n",
       "      <td>23.3333</td>\n",
       "      <td>0.0</td>\n",
       "      <td>35.0000</td>\n",
       "      <td>0.0</td>\n",
       "      <td>1985</td>\n",
       "      <td>-2250</td>\n",
       "      <td>0.0</td>\n",
       "      <td>0</td>\n",
       "      <td>0</td>\n",
       "      <td>0</td>\n",
       "    </tr>\n",
       "    <tr>\n",
       "      <th>1</th>\n",
       "      <td>29.964545</td>\n",
       "      <td>0.0</td>\n",
       "      <td>0.0</td>\n",
       "      <td>0.0</td>\n",
       "      <td>9</td>\n",
       "      <td>0.0</td>\n",
       "      <td>0</td>\n",
       "      <td>0.0</td>\n",
       "      <td>0.0</td>\n",
       "      <td>0.0</td>\n",
       "      <td>...</td>\n",
       "      <td>11.0000</td>\n",
       "      <td>0.0</td>\n",
       "      <td>19.0000</td>\n",
       "      <td>0.0</td>\n",
       "      <td>1985</td>\n",
       "      <td>-11500</td>\n",
       "      <td>0.0</td>\n",
       "      <td>0</td>\n",
       "      <td>0</td>\n",
       "      <td>0</td>\n",
       "    </tr>\n",
       "    <tr>\n",
       "      <th>2</th>\n",
       "      <td>12.207778</td>\n",
       "      <td>0.0</td>\n",
       "      <td>0.0</td>\n",
       "      <td>0.0</td>\n",
       "      <td>23</td>\n",
       "      <td>0.0</td>\n",
       "      <td>0</td>\n",
       "      <td>0.0</td>\n",
       "      <td>0.0</td>\n",
       "      <td>0.0</td>\n",
       "      <td>...</td>\n",
       "      <td>29.0000</td>\n",
       "      <td>0.0</td>\n",
       "      <td>47.0000</td>\n",
       "      <td>0.0</td>\n",
       "      <td>1985</td>\n",
       "      <td>0</td>\n",
       "      <td>0.0</td>\n",
       "      <td>0</td>\n",
       "      <td>0</td>\n",
       "      <td>0</td>\n",
       "    </tr>\n",
       "    <tr>\n",
       "      <th>3</th>\n",
       "      <td>29.964545</td>\n",
       "      <td>0.0</td>\n",
       "      <td>0.0</td>\n",
       "      <td>0.0</td>\n",
       "      <td>10</td>\n",
       "      <td>0.0</td>\n",
       "      <td>0</td>\n",
       "      <td>0.0</td>\n",
       "      <td>0.0</td>\n",
       "      <td>0.0</td>\n",
       "      <td>...</td>\n",
       "      <td>12.2222</td>\n",
       "      <td>0.0</td>\n",
       "      <td>16.6667</td>\n",
       "      <td>0.0</td>\n",
       "      <td>1985</td>\n",
       "      <td>-11500</td>\n",
       "      <td>0.0</td>\n",
       "      <td>0</td>\n",
       "      <td>0</td>\n",
       "      <td>0</td>\n",
       "    </tr>\n",
       "    <tr>\n",
       "      <th>4</th>\n",
       "      <td>17.347895</td>\n",
       "      <td>0.0</td>\n",
       "      <td>0.0</td>\n",
       "      <td>0.0</td>\n",
       "      <td>17</td>\n",
       "      <td>0.0</td>\n",
       "      <td>0</td>\n",
       "      <td>0.0</td>\n",
       "      <td>0.0</td>\n",
       "      <td>0.0</td>\n",
       "      <td>...</td>\n",
       "      <td>21.0000</td>\n",
       "      <td>0.0</td>\n",
       "      <td>32.0000</td>\n",
       "      <td>0.0</td>\n",
       "      <td>1993</td>\n",
       "      <td>-5750</td>\n",
       "      <td>0.0</td>\n",
       "      <td>0</td>\n",
       "      <td>0</td>\n",
       "      <td>0</td>\n",
       "    </tr>\n",
       "  </tbody>\n",
       "</table>\n",
       "<p>5 rows × 59 columns</p>\n",
       "</div>"
      ],
      "text/plain": [
       "   barrels08  barrelsA08  charge120  charge240  city08  city08U  cityA08  \\\n",
       "0  15.695714         0.0        0.0        0.0      19      0.0        0   \n",
       "1  29.964545         0.0        0.0        0.0       9      0.0        0   \n",
       "2  12.207778         0.0        0.0        0.0      23      0.0        0   \n",
       "3  29.964545         0.0        0.0        0.0      10      0.0        0   \n",
       "4  17.347895         0.0        0.0        0.0      17      0.0        0   \n",
       "\n",
       "   cityA08U  cityCD  cityE  ...    UCity  UCityA  UHighway  UHighwayA  year  \\\n",
       "0       0.0     0.0    0.0  ...  23.3333     0.0   35.0000        0.0  1985   \n",
       "1       0.0     0.0    0.0  ...  11.0000     0.0   19.0000        0.0  1985   \n",
       "2       0.0     0.0    0.0  ...  29.0000     0.0   47.0000        0.0  1985   \n",
       "3       0.0     0.0    0.0  ...  12.2222     0.0   16.6667        0.0  1985   \n",
       "4       0.0     0.0    0.0  ...  21.0000     0.0   32.0000        0.0  1993   \n",
       "\n",
       "   youSaveSpend  charge240b  phevCity  phevHwy  phevComb  \n",
       "0         -2250         0.0         0        0         0  \n",
       "1        -11500         0.0         0        0         0  \n",
       "2             0         0.0         0        0         0  \n",
       "3        -11500         0.0         0        0         0  \n",
       "4         -5750         0.0         0        0         0  \n",
       "\n",
       "[5 rows x 59 columns]"
      ]
     },
     "execution_count": 299,
     "metadata": {},
     "output_type": "execute_result"
    }
   ],
   "source": [
    "df_1.select_dtypes(include = 'number').head()"
   ]
  },
  {
   "cell_type": "markdown",
   "metadata": {},
   "source": [
    "Combine on common feature name"
   ]
  },
  {
   "cell_type": "code",
   "execution_count": 300,
   "metadata": {},
   "outputs": [],
   "source": [
    "def combine_similar_columns(df, col_name_from, col_name_to):\n",
    "    df = pd.DataFrame(df)\n",
    "    df[col_name_to] = df.loc[:, df.columns.str.contains(col_name_from)].sum(axis = 1)\n",
    "    col_to_drop = df.columns[df.columns.str.contains(col_name_from)]\n",
    "    \n",
    "    df.drop(columns= col_to_drop, inplace=True)\n",
    "    return df"
   ]
  },
  {
   "cell_type": "code",
   "execution_count": 301,
   "metadata": {},
   "outputs": [],
   "source": [
    "df_1 = (df_1\n",
    "# .pipe(combine_similar_columns,'comb', 'com')\n",
    "# .pipe(combine_similar_columns, 'highway', 'high_way')\n",
    ".pipe(combine_similar_columns, 'fuelType', 'fuel_type')\n",
    "# .pipe(combine_similar_columns, 'fuelCost', 'fuel_cost')\n",
    ".pipe(combine_similar_columns, 'city', 'cit_y')\n",
    ")"
   ]
  },
  {
   "cell_type": "markdown",
   "metadata": {},
   "source": [
    "FillNA"
   ]
  },
  {
   "cell_type": "code",
   "execution_count": 302,
   "metadata": {},
   "outputs": [
    {
     "data": {
      "text/plain": [
       "41144"
      ]
     },
     "execution_count": 302,
     "metadata": {},
     "output_type": "execute_result"
    }
   ],
   "source": [
    "len(df_1)"
   ]
  },
  {
   "cell_type": "code",
   "execution_count": 303,
   "metadata": {},
   "outputs": [
    {
     "data": {
      "text/plain": [
       "barrels08     0\n",
       "barrelsA08    0\n",
       "charge120     0\n",
       "charge240     0\n",
       "co2           0\n",
       "             ..\n",
       "phevCity      0\n",
       "phevHwy       0\n",
       "phevComb      0\n",
       "fuel_type     0\n",
       "cit_y         0\n",
       "Length: 61, dtype: int64"
      ]
     },
     "execution_count": 303,
     "metadata": {},
     "output_type": "execute_result"
    }
   ],
   "source": [
    "df_1.isna().sum()"
   ]
  },
  {
   "cell_type": "code",
   "execution_count": 304,
   "metadata": {},
   "outputs": [
    {
     "data": {
      "text/plain": [
       "barrels08      203\n",
       "barrelsA08      77\n",
       "charge120        1\n",
       "charge240       33\n",
       "co2            547\n",
       "              ... \n",
       "phevCity        39\n",
       "phevHwy         41\n",
       "phevComb        41\n",
       "fuel_type       14\n",
       "cit_y         4261\n",
       "Length: 61, dtype: int64"
      ]
     },
     "execution_count": 304,
     "metadata": {},
     "output_type": "execute_result"
    }
   ],
   "source": [
    "df_1.nunique()"
   ]
  },
  {
   "cell_type": "markdown",
   "metadata": {},
   "source": [
    "Find a simple suitable way to fill df_1['drive'] NA"
   ]
  },
  {
   "cell_type": "code",
   "execution_count": 305,
   "metadata": {},
   "outputs": [],
   "source": [
    "df_1['drive_codes'] = df_1['drive'].astype('category').cat.codes"
   ]
  },
  {
   "cell_type": "code",
   "execution_count": 306,
   "metadata": {},
   "outputs": [
    {
     "data": {
      "text/plain": [
       "barrels08          0.052077\n",
       "barrelsA08         0.018519\n",
       "charge120               NaN\n",
       "charge240          0.004348\n",
       "co2                0.011563\n",
       "co2A               0.008729\n",
       "co2TailpipeAGpm    0.019703\n",
       "co2TailpipeGpm     0.057136\n",
       "comb08            -0.043547\n",
       "comb08U            0.012458\n",
       "combA08            0.008834\n",
       "combA08U           0.004993\n",
       "combE             -0.018635\n",
       "combinedCD         0.007735\n",
       "combinedUF         0.004486\n",
       "cylinders          0.155866\n",
       "displ              0.142966\n",
       "engId             -0.063765\n",
       "feScore            0.001096\n",
       "fuelCost08         0.101709\n",
       "fuelCostA08        0.019320\n",
       "ghgScore           0.001406\n",
       "ghgScoreA          0.001133\n",
       "highway08         -0.024008\n",
       "highway08U         0.015916\n",
       "highwayA08         0.010445\n",
       "highwayA08U        0.005803\n",
       "highwayCD          0.006970\n",
       "highwayE          -0.018406\n",
       "highwayUF          0.004593\n",
       "hlv               -0.040942\n",
       "hpv               -0.045451\n",
       "id                -0.160727\n",
       "lv2                0.023789\n",
       "lv4               -0.070317\n",
       "phevBlended       -0.001763\n",
       "pv2                0.052374\n",
       "pv4               -0.028044\n",
       "range             -0.005260\n",
       "rangeCity          0.001549\n",
       "rangeCityA         0.010249\n",
       "rangeHwy          -0.000127\n",
       "rangeHwyA          0.010068\n",
       "UCity             -0.047503\n",
       "UCityA             0.006275\n",
       "UHighway          -0.023518\n",
       "UHighwayA          0.008780\n",
       "year               0.090935\n",
       "youSaveSpend      -0.101380\n",
       "charge240b        -0.002533\n",
       "phevCity           0.004744\n",
       "phevHwy            0.004047\n",
       "phevComb           0.004382\n",
       "cit_y             -0.011098\n",
       "drive_codes        1.000000\n",
       "Name: drive_codes, dtype: float64"
      ]
     },
     "execution_count": 306,
     "metadata": {},
     "output_type": "execute_result"
    }
   ],
   "source": [
    "df_1.corr('pearson').loc['drive_codes', :]"
   ]
  },
  {
   "cell_type": "code",
   "execution_count": 307,
   "metadata": {},
   "outputs": [
    {
     "data": {
      "text/plain": [
       "barrels08          0.067986\n",
       "barrelsA08         0.010587\n",
       "charge120               NaN\n",
       "charge240          0.000405\n",
       "co2               -0.022306\n",
       "co2A               0.002605\n",
       "co2TailpipeAGpm    0.012809\n",
       "co2TailpipeGpm     0.070186\n",
       "comb08            -0.073912\n",
       "comb08U           -0.019183\n",
       "combA08            0.009869\n",
       "combA08U           0.006022\n",
       "combE             -0.009028\n",
       "combinedCD        -0.005089\n",
       "combinedUF        -0.005743\n",
       "cylinders          0.135892\n",
       "displ              0.114819\n",
       "engId             -0.016878\n",
       "feScore           -0.022795\n",
       "fuelCost08         0.088264\n",
       "fuelCostA08        0.012358\n",
       "ghgScore          -0.022656\n",
       "ghgScoreA          0.003410\n",
       "highway08         -0.045171\n",
       "highway08U        -0.015221\n",
       "highwayA08         0.009912\n",
       "highwayA08U        0.006033\n",
       "highwayCD         -0.004861\n",
       "highwayE          -0.008985\n",
       "highwayUF         -0.005741\n",
       "hlv               -0.034026\n",
       "hpv               -0.033594\n",
       "id                -0.115085\n",
       "lv2                0.057227\n",
       "lv4               -0.044364\n",
       "phevBlended       -0.005726\n",
       "pv2                0.062254\n",
       "pv4               -0.018035\n",
       "range             -0.006721\n",
       "rangeCity          0.004336\n",
       "rangeCityA        -0.005745\n",
       "rangeHwy           0.004327\n",
       "rangeHwyA         -0.005741\n",
       "UCity             -0.086882\n",
       "UCityA             0.008154\n",
       "UHighway          -0.044322\n",
       "UHighwayA          0.008193\n",
       "year               0.018532\n",
       "youSaveSpend      -0.088550\n",
       "charge240b        -0.008529\n",
       "phevCity          -0.005743\n",
       "phevHwy           -0.005738\n",
       "phevComb          -0.005740\n",
       "cit_y             -0.066241\n",
       "drive_codes        1.000000\n",
       "Name: drive_codes, dtype: float64"
      ]
     },
     "execution_count": 307,
     "metadata": {},
     "output_type": "execute_result"
    }
   ],
   "source": [
    "df_1.corr('kendall').loc['drive_codes', :]"
   ]
  },
  {
   "cell_type": "code",
   "execution_count": 308,
   "metadata": {},
   "outputs": [
    {
     "data": {
      "text/plain": [
       "barrels08          0.086982\n",
       "barrelsA08         0.011630\n",
       "charge120               NaN\n",
       "charge240          0.000458\n",
       "co2               -0.022491\n",
       "co2A               0.002857\n",
       "co2TailpipeAGpm    0.014044\n",
       "co2TailpipeGpm     0.090518\n",
       "comb08            -0.095092\n",
       "comb08U           -0.027053\n",
       "combA08            0.011012\n",
       "combA08U           0.006656\n",
       "combE             -0.009876\n",
       "combinedCD        -0.005579\n",
       "combinedUF        -0.006320\n",
       "cylinders          0.163449\n",
       "displ              0.157258\n",
       "engId             -0.023320\n",
       "feScore           -0.029419\n",
       "fuelCost08         0.117252\n",
       "fuelCostA08        0.013548\n",
       "ghgScore          -0.029263\n",
       "ghgScoreA          0.003751\n",
       "highway08         -0.057673\n",
       "highway08U        -0.022707\n",
       "highwayA08         0.011050\n",
       "highwayA08U        0.006654\n",
       "highwayCD         -0.005328\n",
       "highwayE          -0.009845\n",
       "highwayUF         -0.006317\n",
       "hlv               -0.037475\n",
       "hpv               -0.036794\n",
       "id                -0.156354\n",
       "lv2                0.066198\n",
       "lv4               -0.050788\n",
       "phevBlended       -0.006276\n",
       "pv2                0.072080\n",
       "pv4               -0.021282\n",
       "range             -0.007354\n",
       "rangeCity          0.004783\n",
       "rangeCityA        -0.006322\n",
       "rangeHwy           0.004775\n",
       "rangeHwyA         -0.006317\n",
       "UCity             -0.115617\n",
       "UCityA             0.009125\n",
       "UHighway          -0.057061\n",
       "UHighwayA          0.009138\n",
       "year               0.028896\n",
       "youSaveSpend      -0.117458\n",
       "charge240b        -0.009352\n",
       "phevCity          -0.006323\n",
       "phevHwy           -0.006318\n",
       "phevComb          -0.006320\n",
       "cit_y             -0.080592\n",
       "drive_codes        1.000000\n",
       "Name: drive_codes, dtype: float64"
      ]
     },
     "execution_count": 308,
     "metadata": {},
     "output_type": "execute_result"
    }
   ],
   "source": [
    "df_1.corr('spearman').loc['drive_codes', :]"
   ]
  },
  {
   "cell_type": "code",
   "execution_count": 309,
   "metadata": {},
   "outputs": [
    {
     "data": {
      "text/plain": [
       "count                 39955\n",
       "unique                    7\n",
       "top       Front-Wheel Drive\n",
       "freq                  14236\n",
       "Name: drive, dtype: object"
      ]
     },
     "execution_count": 309,
     "metadata": {},
     "output_type": "execute_result"
    }
   ],
   "source": [
    "df_1['drive'].describe()"
   ]
  },
  {
   "cell_type": "code",
   "execution_count": 310,
   "metadata": {},
   "outputs": [
    {
     "data": {
      "text/plain": [
       "count    41144.000000\n",
       "mean         3.981917\n",
       "std          1.819135\n",
       "min         -1.000000\n",
       "25%          3.000000\n",
       "50%          4.000000\n",
       "75%          6.000000\n",
       "max          6.000000\n",
       "Name: drive_codes, dtype: float64"
      ]
     },
     "execution_count": 310,
     "metadata": {},
     "output_type": "execute_result"
    }
   ],
   "source": [
    "df_1['drive_codes'].describe()"
   ]
  },
  {
   "cell_type": "code",
   "execution_count": 311,
   "metadata": {},
   "outputs": [
    {
     "data": {
      "text/plain": [
       "<seaborn.axisgrid.FacetGrid at 0x1f581b251d0>"
      ]
     },
     "execution_count": 311,
     "metadata": {},
     "output_type": "execute_result"
    },
    {
     "data": {
      "image/png": "[encoded data removed]",
      "text/plain": [
       "<Figure size 360x360 with 1 Axes>"
      ]
     },
     "metadata": {
      "needs_background": "light"
     },
     "output_type": "display_data"
    }
   ],
   "source": [
    "sns.displot(df_1['drive'])"
   ]
  },
  {
   "cell_type": "markdown",
   "metadata": {},
   "source": [
    "FillNA with top 3 emissions from the feature"
   ]
  },
  {
   "cell_type": "code",
   "execution_count": 312,
   "metadata": {},
   "outputs": [],
   "source": [
    "def get_p_from_distribution(df, col, n_largest):\n",
    "    df = pd.DataFrame(df)\n",
    "    p = df[col].value_counts().nlargest(n_largest)/ df[col].value_counts().nlargest(n_largest).sum()\n",
    "    return p"
   ]
  },
  {
   "cell_type": "code",
   "execution_count": 313,
   "metadata": {},
   "outputs": [],
   "source": [
    "def fillNA_with_p_dist(df, col, n_largest):\n",
    "    p =  get_p_from_distribution(df, col, n_largest)\n",
    "    arr = np.random.choice(p.index, df[col].isna().sum(), replace = True, p = p.values)\n",
    "    arr = pd.Series(arr, index = df_1[df_1[col].isna() == True][col].index)\n",
    "    return arr"
   ]
  },
  {
   "cell_type": "code",
   "execution_count": 314,
   "metadata": {},
   "outputs": [],
   "source": [
    "df_1['drive'].fillna(value= fillNA_with_p_dist(df_1, 'drive', 3), inplace = True)\n",
    "df_1['cylinders'].fillna(value=df_1['cylinders'].mode().loc[0], inplace= True)\n",
    "df_1['trany'].fillna(value=df_1['trany'].mode().loc[0], inplace= True)\n",
    "df_1['displ'].fillna(value=df_1['displ'].mode().loc[0], inplace= True)"
   ]
  },
  {
   "cell_type": "code",
   "execution_count": 315,
   "metadata": {},
   "outputs": [
    {
     "data": {
      "text/plain": [
       "barrels08      0\n",
       "barrelsA08     0\n",
       "charge120      0\n",
       "charge240      0\n",
       "co2            0\n",
       "              ..\n",
       "phevHwy        0\n",
       "phevComb       0\n",
       "fuel_type      0\n",
       "cit_y          0\n",
       "drive_codes    0\n",
       "Length: 62, dtype: int64"
      ]
     },
     "execution_count": 315,
     "metadata": {},
     "output_type": "execute_result"
    }
   ],
   "source": [
    "df_1.isna().sum()"
   ]
  },
  {
   "cell_type": "markdown",
   "metadata": {},
   "source": [
    "Now I will remove column headers I do not understand # subjective"
   ]
  },
  {
   "cell_type": "code",
   "execution_count": 316,
   "metadata": {},
   "outputs": [],
   "source": [
    "df_1 = df_1.loc[:, ['cylinders', 'drive', 'trany', 'VClass', 'modifiedOn', 'fuel_type']]"
   ]
  },
  {
   "cell_type": "code",
   "execution_count": 317,
   "metadata": {},
   "outputs": [
    {
     "data": {
      "text/html": [
       "<div>\n",
       "<style scoped>\n",
       "    .dataframe tbody tr th:only-of-type {\n",
       "        vertical-align: middle;\n",
       "    }\n",
       "\n",
       "    .dataframe tbody tr th {\n",
       "        vertical-align: top;\n",
       "    }\n",
       "\n",
       "    .dataframe thead th {\n",
       "        text-align: right;\n",
       "    }\n",
       "</style>\n",
       "<table border=\"1\" class=\"dataframe\">\n",
       "  <thead>\n",
       "    <tr style=\"text-align: right;\">\n",
       "      <th></th>\n",
       "      <th>cylinders</th>\n",
       "      <th>drive</th>\n",
       "      <th>trany</th>\n",
       "      <th>VClass</th>\n",
       "      <th>modifiedOn</th>\n",
       "      <th>fuel_type</th>\n",
       "    </tr>\n",
       "  </thead>\n",
       "  <tbody>\n",
       "    <tr>\n",
       "      <th>0</th>\n",
       "      <td>4.0</td>\n",
       "      <td>Rear-Wheel Drive</td>\n",
       "      <td>Manual 5-spd</td>\n",
       "      <td>Two Seaters</td>\n",
       "      <td>Tue Jan 01 00:00:00 EST 2013</td>\n",
       "      <td>RegularRegular Gasoline</td>\n",
       "    </tr>\n",
       "    <tr>\n",
       "      <th>1</th>\n",
       "      <td>12.0</td>\n",
       "      <td>Rear-Wheel Drive</td>\n",
       "      <td>Manual 5-spd</td>\n",
       "      <td>Two Seaters</td>\n",
       "      <td>Tue Jan 01 00:00:00 EST 2013</td>\n",
       "      <td>RegularRegular Gasoline</td>\n",
       "    </tr>\n",
       "    <tr>\n",
       "      <th>2</th>\n",
       "      <td>4.0</td>\n",
       "      <td>Front-Wheel Drive</td>\n",
       "      <td>Manual 5-spd</td>\n",
       "      <td>Subcompact Cars</td>\n",
       "      <td>Tue Jan 01 00:00:00 EST 2013</td>\n",
       "      <td>RegularRegular Gasoline</td>\n",
       "    </tr>\n",
       "    <tr>\n",
       "      <th>3</th>\n",
       "      <td>8.0</td>\n",
       "      <td>Rear-Wheel Drive</td>\n",
       "      <td>Automatic 3-spd</td>\n",
       "      <td>Vans</td>\n",
       "      <td>Tue Jan 01 00:00:00 EST 2013</td>\n",
       "      <td>RegularRegular Gasoline</td>\n",
       "    </tr>\n",
       "    <tr>\n",
       "      <th>4</th>\n",
       "      <td>4.0</td>\n",
       "      <td>4-Wheel or All-Wheel Drive</td>\n",
       "      <td>Manual 5-spd</td>\n",
       "      <td>Compact Cars</td>\n",
       "      <td>Tue Jan 01 00:00:00 EST 2013</td>\n",
       "      <td>PremiumPremium Gasoline</td>\n",
       "    </tr>\n",
       "    <tr>\n",
       "      <th>...</th>\n",
       "      <td>...</td>\n",
       "      <td>...</td>\n",
       "      <td>...</td>\n",
       "      <td>...</td>\n",
       "      <td>...</td>\n",
       "      <td>...</td>\n",
       "    </tr>\n",
       "    <tr>\n",
       "      <th>41139</th>\n",
       "      <td>4.0</td>\n",
       "      <td>Front-Wheel Drive</td>\n",
       "      <td>Automatic 4-spd</td>\n",
       "      <td>Compact Cars</td>\n",
       "      <td>Tue Jan 01 00:00:00 EST 2013</td>\n",
       "      <td>RegularRegular Gasoline</td>\n",
       "    </tr>\n",
       "    <tr>\n",
       "      <th>41140</th>\n",
       "      <td>4.0</td>\n",
       "      <td>Front-Wheel Drive</td>\n",
       "      <td>Manual 5-spd</td>\n",
       "      <td>Compact Cars</td>\n",
       "      <td>Tue Jan 01 00:00:00 EST 2013</td>\n",
       "      <td>RegularRegular Gasoline</td>\n",
       "    </tr>\n",
       "    <tr>\n",
       "      <th>41141</th>\n",
       "      <td>4.0</td>\n",
       "      <td>4-Wheel or All-Wheel Drive</td>\n",
       "      <td>Automatic 4-spd</td>\n",
       "      <td>Compact Cars</td>\n",
       "      <td>Tue Jan 01 00:00:00 EST 2013</td>\n",
       "      <td>RegularRegular Gasoline</td>\n",
       "    </tr>\n",
       "    <tr>\n",
       "      <th>41142</th>\n",
       "      <td>4.0</td>\n",
       "      <td>4-Wheel or All-Wheel Drive</td>\n",
       "      <td>Manual 5-spd</td>\n",
       "      <td>Compact Cars</td>\n",
       "      <td>Tue Jan 01 00:00:00 EST 2013</td>\n",
       "      <td>RegularRegular Gasoline</td>\n",
       "    </tr>\n",
       "    <tr>\n",
       "      <th>41143</th>\n",
       "      <td>4.0</td>\n",
       "      <td>4-Wheel or All-Wheel Drive</td>\n",
       "      <td>Automatic 4-spd</td>\n",
       "      <td>Compact Cars</td>\n",
       "      <td>Tue Jan 01 00:00:00 EST 2013</td>\n",
       "      <td>PremiumPremium Gasoline</td>\n",
       "    </tr>\n",
       "  </tbody>\n",
       "</table>\n",
       "<p>41144 rows × 6 columns</p>\n",
       "</div>"
      ],
      "text/plain": [
       "       cylinders                       drive            trany  \\\n",
       "0            4.0            Rear-Wheel Drive     Manual 5-spd   \n",
       "1           12.0            Rear-Wheel Drive     Manual 5-spd   \n",
       "2            4.0           Front-Wheel Drive     Manual 5-spd   \n",
       "3            8.0            Rear-Wheel Drive  Automatic 3-spd   \n",
       "4            4.0  4-Wheel or All-Wheel Drive     Manual 5-spd   \n",
       "...          ...                         ...              ...   \n",
       "41139        4.0           Front-Wheel Drive  Automatic 4-spd   \n",
       "41140        4.0           Front-Wheel Drive     Manual 5-spd   \n",
       "41141        4.0  4-Wheel or All-Wheel Drive  Automatic 4-spd   \n",
       "41142        4.0  4-Wheel or All-Wheel Drive     Manual 5-spd   \n",
       "41143        4.0  4-Wheel or All-Wheel Drive  Automatic 4-spd   \n",
       "\n",
       "                VClass                    modifiedOn                fuel_type  \n",
       "0          Two Seaters  Tue Jan 01 00:00:00 EST 2013  RegularRegular Gasoline  \n",
       "1          Two Seaters  Tue Jan 01 00:00:00 EST 2013  RegularRegular Gasoline  \n",
       "2      Subcompact Cars  Tue Jan 01 00:00:00 EST 2013  RegularRegular Gasoline  \n",
       "3                 Vans  Tue Jan 01 00:00:00 EST 2013  RegularRegular Gasoline  \n",
       "4         Compact Cars  Tue Jan 01 00:00:00 EST 2013  PremiumPremium Gasoline  \n",
       "...                ...                           ...                      ...  \n",
       "41139     Compact Cars  Tue Jan 01 00:00:00 EST 2013  RegularRegular Gasoline  \n",
       "41140     Compact Cars  Tue Jan 01 00:00:00 EST 2013  RegularRegular Gasoline  \n",
       "41141     Compact Cars  Tue Jan 01 00:00:00 EST 2013  RegularRegular Gasoline  \n",
       "41142     Compact Cars  Tue Jan 01 00:00:00 EST 2013  RegularRegular Gasoline  \n",
       "41143     Compact Cars  Tue Jan 01 00:00:00 EST 2013  PremiumPremium Gasoline  \n",
       "\n",
       "[41144 rows x 6 columns]"
      ]
     },
     "execution_count": 317,
     "metadata": {},
     "output_type": "execute_result"
    }
   ],
   "source": [
    "df_1"
   ]
  },
  {
   "cell_type": "markdown",
   "metadata": {},
   "source": [
    "### EDA"
   ]
  },
  {
   "cell_type": "code",
   "execution_count": 330,
   "metadata": {},
   "outputs": [
    {
     "data": {
      "text/plain": [
       "cylinders      float64\n",
       "drive         category\n",
       "trany         category\n",
       "VClass        category\n",
       "modifiedOn    category\n",
       "fuel_type     category\n",
       "dtype: object"
      ]
     },
     "execution_count": 330,
     "metadata": {},
     "output_type": "execute_result"
    }
   ],
   "source": [
    "df_1.dtypes"
   ]
  },
  {
   "cell_type": "code",
   "execution_count": 331,
   "metadata": {},
   "outputs": [],
   "source": [
    "import numpy as np\n",
    "import pandas as pd\n",
    "from sklearn.impute import SimpleImputer\n",
    "from sklearn.preprocessing import StandardScaler\n",
    "from sklearn.model_selection import train_test_split"
   ]
  },
  {
   "cell_type": "code",
   "execution_count": 336,
   "metadata": {},
   "outputs": [],
   "source": [
    "def preprocess(df):\n",
    "\n",
    "    #Convert categorical attributes to numerical attributes\n",
    "    for col in df:\n",
    "        if df[col].dtype == 'object' or  df[col].dtype.name == 'category':\n",
    "            df[col] = df[col].astype('category').cat.codes.astype('int64')\n",
    "\n",
    "    arr = df.values\n",
    "\n",
    "    scaler = StandardScaler().fit(arr)\n",
    "    arr = scaler.transform(arr)\n",
    "\n",
    "    df = pd.DataFrame(arr)\n",
    "    return df"
   ]
  },
  {
   "cell_type": "code",
   "execution_count": 337,
   "metadata": {},
   "outputs": [],
   "source": [
    "df_2 = preprocess(df_1)"
   ]
  },
  {
   "cell_type": "code",
   "execution_count": 341,
   "metadata": {},
   "outputs": [
    {
     "data": {
      "text/html": [
       "<div>\n",
       "<style scoped>\n",
       "    .dataframe tbody tr th:only-of-type {\n",
       "        vertical-align: middle;\n",
       "    }\n",
       "\n",
       "    .dataframe tbody tr th {\n",
       "        vertical-align: top;\n",
       "    }\n",
       "\n",
       "    .dataframe thead th {\n",
       "        text-align: right;\n",
       "    }\n",
       "</style>\n",
       "<table border=\"1\" class=\"dataframe\">\n",
       "  <thead>\n",
       "    <tr style=\"text-align: right;\">\n",
       "      <th></th>\n",
       "      <th>0</th>\n",
       "      <th>1</th>\n",
       "      <th>2</th>\n",
       "      <th>3</th>\n",
       "      <th>4</th>\n",
       "      <th>5</th>\n",
       "    </tr>\n",
       "  </thead>\n",
       "  <tbody>\n",
       "    <tr>\n",
       "      <th>0</th>\n",
       "      <td>-0.973339</td>\n",
       "      <td>1.146088</td>\n",
       "      <td>1.133293</td>\n",
       "      <td>1.307626</td>\n",
       "      <td>0.332729</td>\n",
       "      <td>0.564127</td>\n",
       "    </tr>\n",
       "    <tr>\n",
       "      <th>1</th>\n",
       "      <td>3.584327</td>\n",
       "      <td>1.146088</td>\n",
       "      <td>1.133293</td>\n",
       "      <td>1.307626</td>\n",
       "      <td>0.332729</td>\n",
       "      <td>0.564127</td>\n",
       "    </tr>\n",
       "    <tr>\n",
       "      <th>2</th>\n",
       "      <td>-0.973339</td>\n",
       "      <td>-0.085409</td>\n",
       "      <td>1.133293</td>\n",
       "      <td>1.219086</td>\n",
       "      <td>0.332729</td>\n",
       "      <td>0.564127</td>\n",
       "    </tr>\n",
       "    <tr>\n",
       "      <th>3</th>\n",
       "      <td>1.305494</td>\n",
       "      <td>1.146088</td>\n",
       "      <td>-0.301461</td>\n",
       "      <td>1.396166</td>\n",
       "      <td>0.332729</td>\n",
       "      <td>0.564127</td>\n",
       "    </tr>\n",
       "    <tr>\n",
       "      <th>4</th>\n",
       "      <td>-0.973339</td>\n",
       "      <td>-1.316907</td>\n",
       "      <td>1.133293</td>\n",
       "      <td>-1.260034</td>\n",
       "      <td>0.332729</td>\n",
       "      <td>-0.474681</td>\n",
       "    </tr>\n",
       "    <tr>\n",
       "      <th>...</th>\n",
       "      <td>...</td>\n",
       "      <td>...</td>\n",
       "      <td>...</td>\n",
       "      <td>...</td>\n",
       "      <td>...</td>\n",
       "      <td>...</td>\n",
       "    </tr>\n",
       "    <tr>\n",
       "      <th>41139</th>\n",
       "      <td>-0.973339</td>\n",
       "      <td>-0.085409</td>\n",
       "      <td>-0.157985</td>\n",
       "      <td>-1.260034</td>\n",
       "      <td>0.332729</td>\n",
       "      <td>0.564127</td>\n",
       "    </tr>\n",
       "    <tr>\n",
       "      <th>41140</th>\n",
       "      <td>-0.973339</td>\n",
       "      <td>-0.085409</td>\n",
       "      <td>1.133293</td>\n",
       "      <td>-1.260034</td>\n",
       "      <td>0.332729</td>\n",
       "      <td>0.564127</td>\n",
       "    </tr>\n",
       "    <tr>\n",
       "      <th>41141</th>\n",
       "      <td>-0.973339</td>\n",
       "      <td>-1.316907</td>\n",
       "      <td>-0.157985</td>\n",
       "      <td>-1.260034</td>\n",
       "      <td>0.332729</td>\n",
       "      <td>0.564127</td>\n",
       "    </tr>\n",
       "    <tr>\n",
       "      <th>41142</th>\n",
       "      <td>-0.973339</td>\n",
       "      <td>-1.316907</td>\n",
       "      <td>1.133293</td>\n",
       "      <td>-1.260034</td>\n",
       "      <td>0.332729</td>\n",
       "      <td>0.564127</td>\n",
       "    </tr>\n",
       "    <tr>\n",
       "      <th>41143</th>\n",
       "      <td>-0.973339</td>\n",
       "      <td>-1.316907</td>\n",
       "      <td>-0.157985</td>\n",
       "      <td>-1.260034</td>\n",
       "      <td>0.332729</td>\n",
       "      <td>-0.474681</td>\n",
       "    </tr>\n",
       "  </tbody>\n",
       "</table>\n",
       "<p>41144 rows × 6 columns</p>\n",
       "</div>"
      ],
      "text/plain": [
       "              0         1         2         3         4         5\n",
       "0     -0.973339  1.146088  1.133293  1.307626  0.332729  0.564127\n",
       "1      3.584327  1.146088  1.133293  1.307626  0.332729  0.564127\n",
       "2     -0.973339 -0.085409  1.133293  1.219086  0.332729  0.564127\n",
       "3      1.305494  1.146088 -0.301461  1.396166  0.332729  0.564127\n",
       "4     -0.973339 -1.316907  1.133293 -1.260034  0.332729 -0.474681\n",
       "...         ...       ...       ...       ...       ...       ...\n",
       "41139 -0.973339 -0.085409 -0.157985 -1.260034  0.332729  0.564127\n",
       "41140 -0.973339 -0.085409  1.133293 -1.260034  0.332729  0.564127\n",
       "41141 -0.973339 -1.316907 -0.157985 -1.260034  0.332729  0.564127\n",
       "41142 -0.973339 -1.316907  1.133293 -1.260034  0.332729  0.564127\n",
       "41143 -0.973339 -1.316907 -0.157985 -1.260034  0.332729 -0.474681\n",
       "\n",
       "[41144 rows x 6 columns]"
      ]
     },
     "execution_count": 341,
     "metadata": {},
     "output_type": "execute_result"
    }
   ],
   "source": [
    "df_2"
   ]
  },
  {
   "cell_type": "code",
   "execution_count": 353,
   "metadata": {},
   "outputs": [],
   "source": [
    "class NeuralNet:\n",
    "    \n",
    "    def __init__(self, df_1, train_test_split_size, nfeature_L1, nfeature_L2):\n",
    "        np.random.seed(1)\n",
    "\n",
    "        # df_0 = pd.read_csv(file_to_create_df, header=None, index_col= None)\n",
    "\n",
    "\n",
    "        self.df_1 = df_1\n",
    "        # self.df_1 = self.preprocess(df_0)\n",
    "\n",
    "        ncols = len(self.df_1.columns)\n",
    "        nrows = len(self.df_1.index)\n",
    "        \n",
    "        self.features_arr = self.df_1.iloc[:, 0:(ncols -1)].values.reshape(nrows, ncols-1) # .values ignores header\n",
    "        self.true_target_arr = self.df_1.iloc[:, (ncols-1)].values.reshape(nrows, 1) # .values ignores header\n",
    "\n",
    "\n",
    "        nfeature_L0 = len(self.features_arr[0])\n",
    "        nsamples_L0 = len(self.true_target_arr)\n",
    "\n",
    "        if not isinstance(self.true_target_arr[0], np.ndarray):\n",
    "            nfeature_Lf = 1\n",
    "        else:\n",
    "            nfeature_Lf = len(self.true_target_arr[0])\n",
    "\n",
    "        # Split dataset into training set and testing set on the basis of test set size\n",
    "        self.features_train_arr, self.features_test_arr, self.true_target_train_arr, self.true_target_test_arr = train_test_split(self.features_arr, self.true_target_arr, test_size=train_test_split_size)\n",
    "        ntrain_samples_L0 = len(self.true_target_train_arr)\n",
    "        # weights go from -1 to 1\n",
    "\n",
    "        self.x_L0 = np.zeros((ntrain_samples_L0, nfeature_L0))\n",
    "        self.x_L0 = self.features_train_arr  # 1000 samples x 10 features_L0\n",
    "        self.w_L0_L1 = 2 * np.random.random((nfeature_L0, nfeature_L1)) - 1 # 10 features_L0 x 5 features_L1\n",
    "\n",
    "        self.x_L1 = np.zeros((ntrain_samples_L0, nfeature_L1)) # 1000 samples x 5 features_L1 (dim reduced - > like pca)\n",
    "        self.w_L1_L2 = 2 * np.random.random((nfeature_L1, nfeature_L2)) - 1 # 5 features_L1 x 3 features_L2\n",
    "        self.delta_x_L1_given_act_fn = np.zeros((ntrain_samples_L0, nfeature_L1)) # 1000 samples x 5 features_1\n",
    "\n",
    "        self.x_L2 = np.zeros((ntrain_samples_L0, nfeature_L2)) # 1000 samples x 3 features_L2 (dim reduced - > like pca)\n",
    "        self.w_L2_Lf = 2 * np.random.random((nfeature_L2, nfeature_Lf)) - 1 # 3 features_2 x 1 features_3 (output)\n",
    "        self.delta_x_L2_given_act_fn = np.zeros((ntrain_samples_L0, nfeature_L2)) # 1000 samples x 3 features_L2\n",
    "\n",
    "        self.x_Lf = np.zeros((ntrain_samples_L0, nfeature_Lf)) # 1000 samples x 1 feature_Lf (dim reduced - > like pca)\n",
    "        self.delta_x_Lf_target_given_act_fn = np.zeros((ntrain_samples_L0, nfeature_Lf)) # 1000 samples x 1 features_Lf\n",
    "\n",
    "    def forward_pass(self, features_arr_L0, activation_fn):\n",
    "        # pass our inputs through our neural network\n",
    "        self.x_L1 = self.activation_function(features_arr_L0.dot(self.w_L0_L1), activation_fn)\n",
    "\n",
    "        self.x_L2  = self.activation_function(self.x_L1.dot(self.w_L1_L2), activation_fn)\n",
    "\n",
    "        x_Lf = self.activation_function(self.x_L2.dot(self.w_L2_Lf), activation_fn)\n",
    "\n",
    "        return x_Lf\n",
    "    \n",
    "    def backward_pass(self, x_Lf, activation_fn):\n",
    "        # pass our inputs through our neural network\n",
    "        self.compute_output_delta(x_Lf, activation_fn)\n",
    "        self.compute_hidden_layer2_delta(activation_fn)\n",
    "        self.compute_hidden_layer1_delta(activation_fn)\n",
    "\n",
    "\n",
    "    def compute_output_delta(self, x_Lf, activation_fn):\n",
    "        delta_x_Lf_target= self.true_target_train_arr - x_Lf\n",
    "\n",
    "        delta_x_Lf_target_given_act_fn = None\n",
    "\n",
    "        if activation_fn == \"sigmoid\":\n",
    "            delta_x_Lf_target_given_act_fn = delta_x_Lf_target * (self.activation_derivative(self.x_Lf, activation=\"sigmoid\"))\n",
    "        elif activation_fn == \"tanh\":\n",
    "            delta_x_Lf_target_given_act_fn = delta_x_Lf_target * (self.activation_derivative(self.x_Lf, activation=\"tanh\"))\n",
    "        elif activation_fn == \"relu\":\n",
    "            delta_x_Lf_target_given_act_fn = delta_x_Lf_target * (self.activation_derivative(self.x_Lf, activation=\"relu\"))\n",
    "\n",
    "        self.delta_x_Lf_target_given_act_fn = delta_x_Lf_target_given_act_fn\n",
    "\n",
    "    def compute_hidden_layer2_delta(self, activation_fn):\n",
    "        delta_x_L2 = self.delta_x_Lf_target_given_act_fn.dot(self.w_L2_Lf.T)\n",
    "        delta_x_L2_given_act_fn = None\n",
    "        if activation_fn == \"sigmoid\":\n",
    "            delta_x_L2_given_act_fn = delta_x_L2 * (self.activation_derivative(self.x_L2, activation=\"sigmoid\"))\n",
    "        elif activation_fn == \"tanh\":\n",
    "            delta_x_L2_given_act_fn = delta_x_L2 * (self.activation_derivative(self.x_L2, activation=\"tanh\"))\n",
    "        elif activation_fn == \"relu\":\n",
    "            delta_x_L2_given_act_fn = delta_x_L2 * (self.activation_derivative(self.x_L2, activation=\"relu\"))\n",
    "\n",
    "        self.delta_x_L2_given_act_fn = delta_x_L2_given_act_fn\n",
    "\n",
    "    def compute_hidden_layer1_delta(self, activation_fn):\n",
    "        delta_x_L1 = self.delta_x_L2_given_act_fn.dot(self.w_L1_L2.T)\n",
    "        delta_x_L1_given_act_fn = None\n",
    "        if activation_fn == \"sigmoid\":\n",
    "            delta_x_L1_given_act_fn = delta_x_L1 * (self.activation_derivative(self.x_L1, activation=\"sigmoid\"))\n",
    "        elif activation_fn == \"tanh\":\n",
    "            delta_x_L1_given_act_fn = delta_x_L1 * (self.activation_derivative(self.x_L1, activation=\"tanh\"))\n",
    "        elif activation_fn == \"relu\":\n",
    "            delta_x_L1_given_act_fn = delta_x_L1 * (self.activation_derivative(self.x_L1, activation=\"relu\"))\n",
    "            \n",
    "        self.delta_x_L1_given_act_fn = delta_x_L1_given_act_fn\n",
    "\n",
    "\n",
    "\n",
    "    def activation_function(self, x, activation_fn):\n",
    "        if activation_fn == \"sigmoid\":\n",
    "            return 1 / (1 + np.exp(-x))\n",
    "        elif activation_fn == \"tanh\":\n",
    "            return np.tanh(x)\n",
    "        elif activation_fn == \"relu\":\n",
    "            return np.maximum(0, x)\n",
    "        return None\n",
    "    \n",
    "\n",
    "\n",
    "    def activation_derivative(self, x, activation=\"sigmoid\"):\n",
    "        if activation == \"sigmoid\":\n",
    "            return x * (1 - x)\n",
    "        elif activation == \"tanh\":\n",
    "            return 1 - np.tanh(x) ** 2\n",
    "        elif activation == \"relu\":\n",
    "            return (x > 0) * 1\n",
    "    \n",
    "\n",
    "\n",
    "    def train(self, activation_fn = \"sigmoid\", max_iterations = 1000, learning_rate = 0.05):\n",
    "        for _ in range(0, max_iterations, 1):\n",
    "\n",
    "            # send forward \n",
    "            x_Lf = self.forward_pass(self.x_L0, activation_fn)\n",
    "            error = 0.5 * np.power((x_Lf - self.true_target_train_arr), 2)\n",
    "\n",
    "\n",
    "\n",
    "            # send backward\n",
    "            self.backward_pass(x_Lf, activation_fn)\n",
    "\n",
    "            w_L2_Lf_update = learning_rate * self.x_L2.T.dot(self.delta_x_Lf_target_given_act_fn) # (2, 100) dot (100 * 1)  = (2,1)\n",
    "            w_L1_L2_update = learning_rate * self.x_L1.T.dot(self.delta_x_L2_given_act_fn) # (4, 100) dot (100 * 2) = (4 * 2)\n",
    "            w_L0_L1_update = learning_rate * self.x_L0.T.dot(self.delta_x_L1_given_act_fn)\n",
    "\n",
    "            self.w_L2_Lf = self.w_L2_Lf + w_L2_Lf_update\n",
    "            self.w_L1_L2 = self.w_L1_L2 + w_L1_L2_update\n",
    "            self.w_L0_L1 = self.w_L0_L1 + w_L0_L1_update\n",
    "        \n",
    "        print(\"After \" + str(max_iterations) + \" iterations, and having learning rate as \" + str(learning_rate) + \", the total error is \" + str(np.sum(error)))\n",
    "        print(\"The final weight vectors are (starting from input to output layers)\")\n",
    "\n",
    "        print(self.w_L0_L1)\n",
    "        print(self.w_L1_L2)\n",
    "        print(self.w_L2_Lf)\n",
    "\n",
    "\n",
    "    def predict(self, activation_fn = \"sigmoid\", header = True):\n",
    "        pred_target_arr = self.forward_pass(self.features_test_arr, activation_fn)\n",
    "        error = 0.5 * np.power((pred_target_arr - self.true_target_test_arr), 2)\n",
    "        return np.sum(error)\n",
    "\n",
    "\n",
    "    def preprocess(df):\n",
    "\n",
    "        #Convert categorical attributes to numerical attributes\n",
    "        for col in df:\n",
    "            if df[col].dtype == 'object':\n",
    "                df[col] = df[col].astype('category').cat.codes.astype('int64')\n",
    "\n",
    "\n",
    "        arr = df.values\n",
    "\n",
    "        #Handle null or missing values\n",
    "        imputer = SimpleImputer(missing_values=np.nan, strategy='mean')\n",
    "        imputer = imputer.fit(arr)\n",
    "        arr = imputer.transform(arr)\n",
    "\n",
    "\n",
    "        #Standardization, converting mean to 0 and standard deviation to 1\n",
    "        scaler = StandardScaler().fit(arr)\n",
    "        arr = scaler.transform(arr)\n",
    "\n",
    "        df = pd.DataFrame(arr)\n",
    "        return df"
   ]
  },
  {
   "cell_type": "code",
   "execution_count": 355,
   "metadata": {},
   "outputs": [
    {
     "name": "stdout",
     "output_type": "stream",
     "text": [
      "Training on 90.0% data and testing on 10.0% data using the sigmoid function \n",
      "After 2000 iterations, and having learning rate as 0.05, the total error is 2307002.222317332\n",
      "The final weight vectors are (starting from input to output layers)\n",
      "[[ 0.99477925  0.26531137 -0.7663954   0.95402659]\n",
      " [ 0.32391202  0.62283306  0.36496205  0.75398076]\n",
      " [ 0.92726544 -0.59337745 -0.52556311 -0.41182707]\n",
      " [ 0.21230779  0.17393664  0.8847526   0.23129186]\n",
      " [-0.65554523 -0.19544547 -0.61296571 -0.58762247]]\n",
      "[[ 0.36864143  0.17995242]\n",
      " [ 0.58641159 -0.97527043]\n",
      " [-0.21199156  0.26052055]\n",
      " [-0.50674023 -0.93483027]]\n",
      "[[-0.20441733]\n",
      " [ 0.92896136]]\n",
      "Testing error sum using sigmoid function : 255633.5397969099\n"
     ]
    }
   ],
   "source": [
    "#Specify the train_test split. The value of train_test_split_size indicates that much % of testing data and remaining % of training data\n",
    "train_test_split_size=0.10\n",
    "\n",
    "#Specify the maximum number of iterations to train the neural network\n",
    "max_iterations = 2000\n",
    "\n",
    "#Specify the learning rate\n",
    "learning_rate = 0.05\n",
    "\n",
    "nfeature_L1 = 4\n",
    "\n",
    "nfeature_L2 = 2\n",
    "\n",
    "\n",
    "print(\"Training on \" + str((1-train_test_split_size)*100) + \"% data and testing on \" + str(train_test_split_size*100) + \"% data using the sigmoid function \" + str())\n",
    "\n",
    "#Initialize the neural network\n",
    "neural_network = NeuralNet(df_1, train_test_split_size, nfeature_L1, nfeature_L2)\n",
    "\n",
    "#Train the neural network\n",
    "neural_network.train(\"sigmoid\", max_iterations, learning_rate)\n",
    "\n",
    "#Test the neural network\n",
    "testError = neural_network.predict()\n",
    "print(\"Testing error sum using sigmoid function \" + str() + \": \" + str(testError))"
   ]
  },
  {
   "cell_type": "code",
   "execution_count": 318,
   "metadata": {},
   "outputs": [
    {
     "data": {
      "text/plain": [
       "cylinders       9\n",
       "drive           7\n",
       "trany          37\n",
       "VClass         34\n",
       "modifiedOn    138\n",
       "fuel_type      14\n",
       "dtype: int64"
      ]
     },
     "execution_count": 318,
     "metadata": {},
     "output_type": "execute_result"
    }
   ],
   "source": [
    "df_1.nunique()"
   ]
  },
  {
   "cell_type": "code",
   "execution_count": 319,
   "metadata": {},
   "outputs": [
    {
     "data": {
      "text/plain": [
       "cylinders      float64\n",
       "drive         category\n",
       "trany         category\n",
       "VClass        category\n",
       "modifiedOn    category\n",
       "fuel_type       object\n",
       "dtype: object"
      ]
     },
     "execution_count": 319,
     "metadata": {},
     "output_type": "execute_result"
    }
   ],
   "source": [
    "df_1.dtypes"
   ]
  },
  {
   "cell_type": "code",
   "execution_count": 320,
   "metadata": {},
   "outputs": [
    {
     "data": {
      "text/plain": [
       "Front-Wheel Drive             14708\n",
       "Rear-Wheel Drive              14316\n",
       "4-Wheel or All-Wheel Drive     6880\n",
       "All-Wheel Drive                3015\n",
       "4-Wheel Drive                  1460\n",
       "2-Wheel Drive                   507\n",
       "Part-time 4-Wheel Drive         258\n",
       "Name: drive, dtype: int64"
      ]
     },
     "execution_count": 320,
     "metadata": {},
     "output_type": "execute_result"
    }
   ],
   "source": [
    "df_1['drive'].value_counts()"
   ]
  },
  {
   "cell_type": "code",
   "execution_count": 321,
   "metadata": {},
   "outputs": [
    {
     "data": {
      "text/html": [
       "<div>\n",
       "<style scoped>\n",
       "    .dataframe tbody tr th:only-of-type {\n",
       "        vertical-align: middle;\n",
       "    }\n",
       "\n",
       "    .dataframe tbody tr th {\n",
       "        vertical-align: top;\n",
       "    }\n",
       "\n",
       "    .dataframe thead th {\n",
       "        text-align: right;\n",
       "    }\n",
       "</style>\n",
       "<table border=\"1\" class=\"dataframe\">\n",
       "  <thead>\n",
       "    <tr style=\"text-align: right;\">\n",
       "      <th></th>\n",
       "      <th>cylinders</th>\n",
       "      <th>fuel_type</th>\n",
       "    </tr>\n",
       "    <tr>\n",
       "      <th>drive</th>\n",
       "      <th></th>\n",
       "      <th></th>\n",
       "    </tr>\n",
       "  </thead>\n",
       "  <tbody>\n",
       "    <tr>\n",
       "      <th>2-Wheel Drive</th>\n",
       "      <td>8.0</td>\n",
       "      <td>RegularRegular Gasoline</td>\n",
       "    </tr>\n",
       "    <tr>\n",
       "      <th>4-Wheel Drive</th>\n",
       "      <td>12.0</td>\n",
       "      <td>RegularRegular Gasoline</td>\n",
       "    </tr>\n",
       "    <tr>\n",
       "      <th>4-Wheel or All-Wheel Drive</th>\n",
       "      <td>16.0</td>\n",
       "      <td>RegularRegular Gasoline</td>\n",
       "    </tr>\n",
       "    <tr>\n",
       "      <th>All-Wheel Drive</th>\n",
       "      <td>16.0</td>\n",
       "      <td>RegularRegular Gasoline</td>\n",
       "    </tr>\n",
       "    <tr>\n",
       "      <th>Front-Wheel Drive</th>\n",
       "      <td>8.0</td>\n",
       "      <td>RegularRegular Gasoline</td>\n",
       "    </tr>\n",
       "    <tr>\n",
       "      <th>Part-time 4-Wheel Drive</th>\n",
       "      <td>12.0</td>\n",
       "      <td>RegularRegular Gasoline</td>\n",
       "    </tr>\n",
       "    <tr>\n",
       "      <th>Rear-Wheel Drive</th>\n",
       "      <td>12.0</td>\n",
       "      <td>RegularRegular Gasoline</td>\n",
       "    </tr>\n",
       "  </tbody>\n",
       "</table>\n",
       "</div>"
      ],
      "text/plain": [
       "                            cylinders                fuel_type\n",
       "drive                                                         \n",
       "2-Wheel Drive                     8.0  RegularRegular Gasoline\n",
       "4-Wheel Drive                    12.0  RegularRegular Gasoline\n",
       "4-Wheel or All-Wheel Drive       16.0  RegularRegular Gasoline\n",
       "All-Wheel Drive                  16.0  RegularRegular Gasoline\n",
       "Front-Wheel Drive                 8.0  RegularRegular Gasoline\n",
       "Part-time 4-Wheel Drive          12.0  RegularRegular Gasoline\n",
       "Rear-Wheel Drive                 12.0  RegularRegular Gasoline"
      ]
     },
     "execution_count": 321,
     "metadata": {},
     "output_type": "execute_result"
    }
   ],
   "source": [
    "df_1.groupby(['drive'])[df_1.columns].max()"
   ]
  },
  {
   "cell_type": "code",
   "execution_count": 322,
   "metadata": {},
   "outputs": [
    {
     "data": {
      "text/plain": [
       "Index(['fuel_type'], dtype='object')"
      ]
     },
     "execution_count": 322,
     "metadata": {},
     "output_type": "execute_result"
    }
   ],
   "source": [
    "df_1.select_dtypes(include = 'object').columns"
   ]
  },
  {
   "cell_type": "code",
   "execution_count": null,
   "metadata": {},
   "outputs": [],
   "source": []
  },
  {
   "cell_type": "code",
   "execution_count": 323,
   "metadata": {},
   "outputs": [
    {
     "name": "stdout",
     "output_type": "stream",
     "text": [
      "Index(['fuel_type'], dtype='object')\n"
     ]
    }
   ],
   "source": [
    "df_1 = change_dtypes(df_1, df_1.select_dtypes(include = 'object').columns, 'category')"
   ]
  },
  {
   "cell_type": "code",
   "execution_count": 324,
   "metadata": {},
   "outputs": [
    {
     "data": {
      "text/html": [
       "<div>\n",
       "<style scoped>\n",
       "    .dataframe tbody tr th:only-of-type {\n",
       "        vertical-align: middle;\n",
       "    }\n",
       "\n",
       "    .dataframe tbody tr th {\n",
       "        vertical-align: top;\n",
       "    }\n",
       "\n",
       "    .dataframe thead th {\n",
       "        text-align: right;\n",
       "    }\n",
       "</style>\n",
       "<table border=\"1\" class=\"dataframe\">\n",
       "  <thead>\n",
       "    <tr style=\"text-align: right;\">\n",
       "      <th></th>\n",
       "      <th>cylinders</th>\n",
       "      <th>drive</th>\n",
       "      <th>trany</th>\n",
       "      <th>VClass</th>\n",
       "      <th>modifiedOn</th>\n",
       "      <th>fuel_type</th>\n",
       "    </tr>\n",
       "  </thead>\n",
       "  <tbody>\n",
       "    <tr>\n",
       "      <th>0</th>\n",
       "      <td>4.0</td>\n",
       "      <td>Rear-Wheel Drive</td>\n",
       "      <td>Manual 5-spd</td>\n",
       "      <td>Two Seaters</td>\n",
       "      <td>Tue Jan 01 00:00:00 EST 2013</td>\n",
       "      <td>RegularRegular Gasoline</td>\n",
       "    </tr>\n",
       "    <tr>\n",
       "      <th>1</th>\n",
       "      <td>12.0</td>\n",
       "      <td>Rear-Wheel Drive</td>\n",
       "      <td>Manual 5-spd</td>\n",
       "      <td>Two Seaters</td>\n",
       "      <td>Tue Jan 01 00:00:00 EST 2013</td>\n",
       "      <td>RegularRegular Gasoline</td>\n",
       "    </tr>\n",
       "    <tr>\n",
       "      <th>2</th>\n",
       "      <td>4.0</td>\n",
       "      <td>Front-Wheel Drive</td>\n",
       "      <td>Manual 5-spd</td>\n",
       "      <td>Subcompact Cars</td>\n",
       "      <td>Tue Jan 01 00:00:00 EST 2013</td>\n",
       "      <td>RegularRegular Gasoline</td>\n",
       "    </tr>\n",
       "    <tr>\n",
       "      <th>3</th>\n",
       "      <td>8.0</td>\n",
       "      <td>Rear-Wheel Drive</td>\n",
       "      <td>Automatic 3-spd</td>\n",
       "      <td>Vans</td>\n",
       "      <td>Tue Jan 01 00:00:00 EST 2013</td>\n",
       "      <td>RegularRegular Gasoline</td>\n",
       "    </tr>\n",
       "    <tr>\n",
       "      <th>4</th>\n",
       "      <td>4.0</td>\n",
       "      <td>4-Wheel or All-Wheel Drive</td>\n",
       "      <td>Manual 5-spd</td>\n",
       "      <td>Compact Cars</td>\n",
       "      <td>Tue Jan 01 00:00:00 EST 2013</td>\n",
       "      <td>PremiumPremium Gasoline</td>\n",
       "    </tr>\n",
       "    <tr>\n",
       "      <th>...</th>\n",
       "      <td>...</td>\n",
       "      <td>...</td>\n",
       "      <td>...</td>\n",
       "      <td>...</td>\n",
       "      <td>...</td>\n",
       "      <td>...</td>\n",
       "    </tr>\n",
       "    <tr>\n",
       "      <th>41139</th>\n",
       "      <td>4.0</td>\n",
       "      <td>Front-Wheel Drive</td>\n",
       "      <td>Automatic 4-spd</td>\n",
       "      <td>Compact Cars</td>\n",
       "      <td>Tue Jan 01 00:00:00 EST 2013</td>\n",
       "      <td>RegularRegular Gasoline</td>\n",
       "    </tr>\n",
       "    <tr>\n",
       "      <th>41140</th>\n",
       "      <td>4.0</td>\n",
       "      <td>Front-Wheel Drive</td>\n",
       "      <td>Manual 5-spd</td>\n",
       "      <td>Compact Cars</td>\n",
       "      <td>Tue Jan 01 00:00:00 EST 2013</td>\n",
       "      <td>RegularRegular Gasoline</td>\n",
       "    </tr>\n",
       "    <tr>\n",
       "      <th>41141</th>\n",
       "      <td>4.0</td>\n",
       "      <td>4-Wheel or All-Wheel Drive</td>\n",
       "      <td>Automatic 4-spd</td>\n",
       "      <td>Compact Cars</td>\n",
       "      <td>Tue Jan 01 00:00:00 EST 2013</td>\n",
       "      <td>RegularRegular Gasoline</td>\n",
       "    </tr>\n",
       "    <tr>\n",
       "      <th>41142</th>\n",
       "      <td>4.0</td>\n",
       "      <td>4-Wheel or All-Wheel Drive</td>\n",
       "      <td>Manual 5-spd</td>\n",
       "      <td>Compact Cars</td>\n",
       "      <td>Tue Jan 01 00:00:00 EST 2013</td>\n",
       "      <td>RegularRegular Gasoline</td>\n",
       "    </tr>\n",
       "    <tr>\n",
       "      <th>41143</th>\n",
       "      <td>4.0</td>\n",
       "      <td>4-Wheel or All-Wheel Drive</td>\n",
       "      <td>Automatic 4-spd</td>\n",
       "      <td>Compact Cars</td>\n",
       "      <td>Tue Jan 01 00:00:00 EST 2013</td>\n",
       "      <td>PremiumPremium Gasoline</td>\n",
       "    </tr>\n",
       "  </tbody>\n",
       "</table>\n",
       "<p>41144 rows × 6 columns</p>\n",
       "</div>"
      ],
      "text/plain": [
       "       cylinders                       drive            trany  \\\n",
       "0            4.0            Rear-Wheel Drive     Manual 5-spd   \n",
       "1           12.0            Rear-Wheel Drive     Manual 5-spd   \n",
       "2            4.0           Front-Wheel Drive     Manual 5-spd   \n",
       "3            8.0            Rear-Wheel Drive  Automatic 3-spd   \n",
       "4            4.0  4-Wheel or All-Wheel Drive     Manual 5-spd   \n",
       "...          ...                         ...              ...   \n",
       "41139        4.0           Front-Wheel Drive  Automatic 4-spd   \n",
       "41140        4.0           Front-Wheel Drive     Manual 5-spd   \n",
       "41141        4.0  4-Wheel or All-Wheel Drive  Automatic 4-spd   \n",
       "41142        4.0  4-Wheel or All-Wheel Drive     Manual 5-spd   \n",
       "41143        4.0  4-Wheel or All-Wheel Drive  Automatic 4-spd   \n",
       "\n",
       "                VClass                    modifiedOn                fuel_type  \n",
       "0          Two Seaters  Tue Jan 01 00:00:00 EST 2013  RegularRegular Gasoline  \n",
       "1          Two Seaters  Tue Jan 01 00:00:00 EST 2013  RegularRegular Gasoline  \n",
       "2      Subcompact Cars  Tue Jan 01 00:00:00 EST 2013  RegularRegular Gasoline  \n",
       "3                 Vans  Tue Jan 01 00:00:00 EST 2013  RegularRegular Gasoline  \n",
       "4         Compact Cars  Tue Jan 01 00:00:00 EST 2013  PremiumPremium Gasoline  \n",
       "...                ...                           ...                      ...  \n",
       "41139     Compact Cars  Tue Jan 01 00:00:00 EST 2013  RegularRegular Gasoline  \n",
       "41140     Compact Cars  Tue Jan 01 00:00:00 EST 2013  RegularRegular Gasoline  \n",
       "41141     Compact Cars  Tue Jan 01 00:00:00 EST 2013  RegularRegular Gasoline  \n",
       "41142     Compact Cars  Tue Jan 01 00:00:00 EST 2013  RegularRegular Gasoline  \n",
       "41143     Compact Cars  Tue Jan 01 00:00:00 EST 2013  PremiumPremium Gasoline  \n",
       "\n",
       "[41144 rows x 6 columns]"
      ]
     },
     "execution_count": 324,
     "metadata": {},
     "output_type": "execute_result"
    }
   ],
   "source": [
    "df_1"
   ]
  },
  {
   "cell_type": "code",
   "execution_count": 325,
   "metadata": {},
   "outputs": [
    {
     "data": {
      "text/html": [
       "<div>\n",
       "<style scoped>\n",
       "    .dataframe tbody tr th:only-of-type {\n",
       "        vertical-align: middle;\n",
       "    }\n",
       "\n",
       "    .dataframe tbody tr th {\n",
       "        vertical-align: top;\n",
       "    }\n",
       "\n",
       "    .dataframe thead th {\n",
       "        text-align: right;\n",
       "    }\n",
       "</style>\n",
       "<table border=\"1\" class=\"dataframe\">\n",
       "  <thead>\n",
       "    <tr style=\"text-align: right;\">\n",
       "      <th></th>\n",
       "      <th>cylinders</th>\n",
       "    </tr>\n",
       "  </thead>\n",
       "  <tbody>\n",
       "    <tr>\n",
       "      <th>cylinders</th>\n",
       "      <td>1.0</td>\n",
       "    </tr>\n",
       "  </tbody>\n",
       "</table>\n",
       "</div>"
      ],
      "text/plain": [
       "           cylinders\n",
       "cylinders        1.0"
      ]
     },
     "execution_count": 325,
     "metadata": {},
     "output_type": "execute_result"
    }
   ],
   "source": [
    "df_1.corr()"
   ]
  },
  {
   "cell_type": "code",
   "execution_count": 326,
   "metadata": {},
   "outputs": [
    {
     "data": {
      "text/plain": [
       "drive\n",
       "Part-time 4-Wheel Drive         258\n",
       "2-Wheel Drive                   507\n",
       "4-Wheel Drive                  1460\n",
       "All-Wheel Drive                3015\n",
       "4-Wheel or All-Wheel Drive     6880\n",
       "Rear-Wheel Drive              14316\n",
       "Front-Wheel Drive             14708\n",
       "dtype: int64"
      ]
     },
     "execution_count": 326,
     "metadata": {},
     "output_type": "execute_result"
    }
   ],
   "source": [
    "df_1.groupby(['drive']).size().sort_values()"
   ]
  },
  {
   "cell_type": "markdown",
   "metadata": {},
   "source": [
    "#### Univariate relationships"
   ]
  },
  {
   "cell_type": "markdown",
   "metadata": {},
   "source": [
    "##### Num Data"
   ]
  },
  {
   "cell_type": "code",
   "execution_count": 327,
   "metadata": {},
   "outputs": [
    {
     "ename": "NameError",
     "evalue": "name 'df' is not defined",
     "output_type": "error",
     "traceback": [
      "\u001b[1;31m---------------------------------------------------------------------------\u001b[0m",
      "\u001b[1;31mNameError\u001b[0m                                 Traceback (most recent call last)",
      "\u001b[1;32m<ipython-input-327-a9015fbc405a>\u001b[0m in \u001b[0;36m<module>\u001b[1;34m\u001b[0m\n\u001b[0;32m      1\u001b[0m \u001b[1;31m# Dataset dimensions\u001b[0m\u001b[1;33m\u001b[0m\u001b[1;33m\u001b[0m\u001b[1;33m\u001b[0m\u001b[0m\n\u001b[1;32m----> 2\u001b[1;33m \u001b[0mprint\u001b[0m\u001b[1;33m(\u001b[0m\u001b[0mlen\u001b[0m\u001b[1;33m(\u001b[0m\u001b[0mdf\u001b[0m\u001b[1;33m)\u001b[0m\u001b[1;33m)\u001b[0m\u001b[1;33m\u001b[0m\u001b[1;33m\u001b[0m\u001b[0m\n\u001b[0m\u001b[0;32m      3\u001b[0m \u001b[0mprint\u001b[0m\u001b[1;33m(\u001b[0m\u001b[0mlen\u001b[0m\u001b[1;33m(\u001b[0m\u001b[0mdf\u001b[0m\u001b[1;33m.\u001b[0m\u001b[0mcolumns\u001b[0m\u001b[1;33m)\u001b[0m\u001b[1;33m)\u001b[0m\u001b[1;33m\u001b[0m\u001b[1;33m\u001b[0m\u001b[0m\n\u001b[0;32m      4\u001b[0m \u001b[0mprint\u001b[0m\u001b[1;33m(\u001b[0m\u001b[0mdf\u001b[0m\u001b[1;33m.\u001b[0m\u001b[0mshape\u001b[0m\u001b[1;33m)\u001b[0m\u001b[1;33m\u001b[0m\u001b[1;33m\u001b[0m\u001b[0m\n\u001b[0;32m      5\u001b[0m \u001b[0mprint\u001b[0m\u001b[1;33m(\u001b[0m\u001b[1;34m'--'\u001b[0m\u001b[1;33m*\u001b[0m\u001b[1;36m40\u001b[0m\u001b[1;33m)\u001b[0m\u001b[1;33m\u001b[0m\u001b[1;33m\u001b[0m\u001b[0m\n",
      "\u001b[1;31mNameError\u001b[0m: name 'df' is not defined"
     ]
    }
   ],
   "source": [
    "# Dataset dimensions\n",
    "print(len(df))\n",
    "print(len(df.columns))\n",
    "print(df.shape)\n",
    "print('--'*40)\n",
    "print(\"Proportion of NA \\n\",df.isna().sum()/ len(df) *100)\n",
    "print('--'*40)\n",
    "print(df.columns)"
   ]
  },
  {
   "cell_type": "code",
   "execution_count": null,
   "metadata": {},
   "outputs": [],
   "source": [
    "# Dataset uniqueness of categorical features (<20 categories)\n",
    "for feat in df.columns:\n",
    "    if df[feat].nunique() < 20:\n",
    "        print(df[feat].value_counts()/ df[feat].value_counts().sum() *100)\n",
    "        print('--'*40)\n"
   ]
  },
  {
   "cell_type": "markdown",
   "metadata": {},
   "source": [
    "##### Figs"
   ]
  },
  {
   "cell_type": "code",
   "execution_count": null,
   "metadata": {},
   "outputs": [],
   "source": [
    "plt.pie(df[df['ordertype'].isin(['Corrective', 'PM'])]['ordertype'].value_counts().reset_index().iloc[:,1], autopct = '%1.1f%%')\n",
    "plt.legend(df[df['ordertype'].isin(['Corrective', 'PM'])]['ordertype'].value_counts().reset_index().iloc[:,0])\n",
    "plt.title(\"Work Order Types\")\n",
    "plt.show()"
   ]
  },
  {
   "cell_type": "code",
   "execution_count": null,
   "metadata": {},
   "outputs": [],
   "source": [
    "plt.pie(df[df['requestedfrom'].isin(['Corp', 'CALLENTRY', 'PDA', 'CRS'])]['requestedfrom'].value_counts().reset_index().iloc[:,1], autopct = '%1.1f%%')\n",
    "plt.legend(df[df['requestedfrom'].isin(['Corp', 'CALLENTRY', 'PDA', 'CRS'])]['requestedfrom'].value_counts().reset_index().iloc[:,0])\n",
    "plt.title(\"Work Order Requested from\")\n",
    "plt.show()"
   ]
  },
  {
   "cell_type": "code",
   "execution_count": null,
   "metadata": {},
   "outputs": [],
   "source": [
    "plt.pie(df[df['actual_sla'].isin(['Completed On-Time', 'Completed Past Due'])]['actual_sla'].value_counts().reset_index().iloc[:,1], autopct = '%1.1f%%')\n",
    "plt.legend(df[df['actual_sla'].isin(['Completed On-Time', 'Completed Past Due'])]['actual_sla'].value_counts().reset_index().iloc[:,0])\n",
    "plt.title(\"Work Order Actual SLA\")\n",
    "plt.show()"
   ]
  },
  {
   "cell_type": "code",
   "execution_count": null,
   "metadata": {},
   "outputs": [],
   "source": [
    "plt.pie([df['assignedemployee'].notna().sum(), df['assignedvendor'].notna().sum()], autopct = '%1.1f%%' )\n",
    "plt.legend(['assignedemployee', 'assignedvendor'])\n",
    "plt.title(\"Work Order Assignment\")\n",
    "plt.show()\n",
    "\n",
    "# plt.pie(df[df['assignedemployee'].notna()]['assignedemployee'].value_counts().reset_index().iloc[:,1], autopct = '%1.1f%%')\n",
    "# plt.legend(df[df['actual_sla'].isin(['Completed On-Time', 'Completed Past Due'])]['actual_sla'].value_counts().reset_index().iloc[:,0])\n",
    "# plt.title(\"Work Order Actual SLA\")\n",
    "# plt.show()"
   ]
  },
  {
   "cell_type": "code",
   "execution_count": null,
   "metadata": {},
   "outputs": [],
   "source": [
    "df['priority'].value_counts()/ len(df['priority'])*100"
   ]
  },
  {
   "cell_type": "code",
   "execution_count": null,
   "metadata": {},
   "outputs": [],
   "source": [
    "plt.pie(df[df['priority'].isin(['P1', 'P2', 'P3', 'P4', 'P5', 'P6', 'P9', 'AP1'])]['priority'].value_counts().reset_index().iloc[:,1], autopct = '%1.1f%%')\n",
    "plt.legend(df[df['priority'].isin(['P1', 'P2', 'P3', 'P4', 'P5', 'P6', 'P9', 'AP1'])]['priority'].value_counts().reset_index().iloc[:,0])\n",
    "plt.title(\"Work Order Priority\")\n",
    "plt.show()"
   ]
  },
  {
   "cell_type": "code",
   "execution_count": null,
   "metadata": {},
   "outputs": [],
   "source": [
    "df.describe()"
   ]
  },
  {
   "cell_type": "markdown",
   "metadata": {},
   "source": [
    "### Bivariate analysis"
   ]
  },
  {
   "cell_type": "markdown",
   "metadata": {},
   "source": [
    "#### Relationship between ordertype and actual_sla"
   ]
  },
  {
   "cell_type": "code",
   "execution_count": null,
   "metadata": {},
   "outputs": [],
   "source": [
    "plt.pie(df[(df['actual_sla'] == 'Completed On-Time') & df['ordertype'].notna()]['ordertype'].value_counts().reset_index().iloc[:,1], autopct = '%1.1f%%')\n",
    "plt.legend(df[(df['actual_sla'] == 'Completed On-Time') & df['ordertype'].notna()]['ordertype'].value_counts().reset_index().iloc[:,0])\n",
    "plt.title(\"Work Order Actual_sla: Completed on time\")\n",
    "plt.show()"
   ]
  },
  {
   "cell_type": "code",
   "execution_count": null,
   "metadata": {},
   "outputs": [],
   "source": [
    "plt.pie(df[(df['actual_sla'] == 'Completed Past Due') & df['ordertype'].notna()]['ordertype'].value_counts().reset_index().iloc[:,1], autopct = '%1.1f%%')\n",
    "plt.legend(df[(df['actual_sla'] == 'Completed Past Due') & df['ordertype'].notna()]['ordertype'].value_counts().reset_index().iloc[:,0])\n",
    "plt.title(\"Work Order Actual_sla: Completed Past Due\")\n",
    "plt.show()"
   ]
  },
  {
   "cell_type": "code",
   "execution_count": null,
   "metadata": {},
   "outputs": [],
   "source": [
    "plt.hist(df[(df['actual_sla'] == 'Completed On-Time') & df['ordertype'].notna()]['ordertype'])\n",
    "plt.hist(df[(df['actual_sla'] == 'Completed Past Due') & df['ordertype'].notna()]['ordertype'])\n",
    "plt.legend(['Completed on time', 'Completed Past Due'])\n",
    "plt.title(\"Work Order Actual_sla: Completed on time vs. completed past due\")\n",
    "plt.show()"
   ]
  },
  {
   "cell_type": "code",
   "execution_count": null,
   "metadata": {},
   "outputs": [],
   "source": [
    "dfV1 = df.groupby(by = 'actual_sla').count().loc[['Completed On-Time', 'Completed Past Due']]\n",
    "dfV1"
   ]
  },
  {
   "cell_type": "markdown",
   "metadata": {},
   "source": [
    "#### Relationship between Completed Past due and employee/vendor assignment"
   ]
  },
  {
   "cell_type": "code",
   "execution_count": null,
   "metadata": {},
   "outputs": [],
   "source": [
    "plt.pie([df[(df['actual_sla'] == 'Completed On-Time')]['assignedemployee'].count(), df[(df['actual_sla'] == 'Completed On-Time')]['assignedvendor'].count()], autopct= '%1.1f%%')\n",
    "plt.legend(['Assigned Employee', 'Assigned Vendor'])\n",
    "plt.title(\"Work Order Actual_sla: Completed on time\")\n",
    "plt.show()"
   ]
  },
  {
   "cell_type": "code",
   "execution_count": null,
   "metadata": {},
   "outputs": [],
   "source": [
    "plt.pie([df[(df['actual_sla'] == 'Completed Past Due')]['assignedemployee'].count(), df[(df['actual_sla'] == 'Completed Past Due')]['assignedvendor'].count()], autopct= '%1.1f%%')\n",
    "plt.legend(['Assigned Employee', 'Assigned Vendor'])\n",
    "plt.title(\"Work Order Actual_sla: Completed Past Due\")\n",
    "plt.show()"
   ]
  },
  {
   "cell_type": "code",
   "execution_count": null,
   "metadata": {},
   "outputs": [],
   "source": [
    "plt.hist(df[(df['assignedemployee'].notna()) & (df['actual_sla'].isin(['Completed On-Time', 'Completed Past Due']))]['actual_sla'], alpha = 0.7)\n",
    "plt.hist(df[(df['assignedvendor'].notna()) & (df['actual_sla'].isin(['Completed On-Time', 'Completed Past Due']))]['actual_sla'], alpha = 0.7)\n",
    "plt.legend(['assigned employee', 'assigned vendor'])\n",
    "plt.show()"
   ]
  },
  {
   "cell_type": "markdown",
   "metadata": {},
   "source": [
    "#### Relationship between employee assignment and actual_sla"
   ]
  },
  {
   "cell_type": "code",
   "execution_count": null,
   "metadata": {},
   "outputs": [],
   "source": [
    "plt.pie(df[df['assignedemployee'].notna() & df['actual_sla'].isin(['Completed On-Time', 'Completed Past Due'])]['actual_sla'].value_counts().reset_index().iloc[:, 1], autopct = '%1.1f%%')\n",
    "plt.legend(df[df['assignedemployee'].notna() & df['actual_sla'].isin(['Completed On-Time', 'Completed Past Due'])]['actual_sla'].value_counts().reset_index().iloc[:, 0])\n",
    "plt.title('WO assigned to employee')\n",
    "plt.show()"
   ]
  },
  {
   "cell_type": "markdown",
   "metadata": {},
   "source": [
    "#### Relationship between vendor assignment and actual_sla"
   ]
  },
  {
   "cell_type": "code",
   "execution_count": null,
   "metadata": {},
   "outputs": [],
   "source": [
    "plt.pie(df[df['assignedvendor'].notna() & df['actual_sla'].isin(['Completed On-Time', 'Completed Past Due'])]['actual_sla'].value_counts().reset_index().iloc[:, 1], autopct = '%1.1f%%')\n",
    "plt.legend(df[df['assignedvendor'].notna() & df['actual_sla'].isin(['Completed On-Time', 'Completed Past Due'])]['actual_sla'].value_counts().reset_index().iloc[:, 0])\n",
    "plt.title('WO assigned to vendor')\n",
    "plt.show()"
   ]
  },
  {
   "cell_type": "markdown",
   "metadata": {},
   "source": [
    "#### Relationship between employee assignment and priority"
   ]
  },
  {
   "cell_type": "code",
   "execution_count": null,
   "metadata": {},
   "outputs": [],
   "source": [
    "plt.pie(df[df['assignedemployee'].notna() & df['priority'].isin(['P1', 'P2', 'P3', 'P4', 'P5', 'P6', 'P9', 'AP1'])]['priority'].value_counts().reset_index().iloc[:, 1], autopct = '%1.1f%%')\n",
    "plt.legend(df[df['assignedemployee'].notna() & df['priority'].isin(['P1', 'P2', 'P3', 'P4', 'P5', 'P6', 'P9', 'AP1'])]['priority'].value_counts().reset_index().iloc[:, 0])\n",
    "plt.title('WO assigned to employee')\n",
    "plt.show()"
   ]
  },
  {
   "cell_type": "markdown",
   "metadata": {},
   "source": [
    "#### Relationship between vendor assignment and priority"
   ]
  },
  {
   "cell_type": "code",
   "execution_count": null,
   "metadata": {},
   "outputs": [],
   "source": [
    "plt.pie(df[df['assignedvendor'].notna() & df['priority'].isin(['P1', 'P2', 'P3', 'P4', 'P5', 'P6', 'P9', 'AP1'])]['priority'].value_counts().reset_index().iloc[:, 1], autopct = '%1.1f%%')\n",
    "plt.legend(df[df['assignedvendor'].notna() & df['priority'].isin(['P1', 'P2', 'P3', 'P4', 'P5', 'P6', 'P9', 'AP1'])]['priority'].value_counts().reset_index().iloc[:, 0])\n",
    "plt.title('WO assigned to vendor')\n",
    "plt.show()"
   ]
  },
  {
   "cell_type": "markdown",
   "metadata": {},
   "source": [
    "#### Relationship between Completed Past due and Priority"
   ]
  },
  {
   "cell_type": "code",
   "execution_count": null,
   "metadata": {},
   "outputs": [],
   "source": [
    "plt.pie(df[((df['actual_sla'] == 'Completed Past Due')) & (df['priority'].isin(['P1', 'P2', 'P3', 'P4', 'P5', 'P6', 'P9', 'AP1']))]['priority'].value_counts().reset_index().iloc[:,1], autopct = '%1.1f%%')\n",
    "plt.legend(df[((df['actual_sla'] == 'Completed Past Due')) & (df['priority'].isin(['P1', 'P2', 'P3', 'P4', 'P5', 'P6', 'P9', 'AP1']))]['priority'].value_counts().reset_index().iloc[:,0])\n",
    "plt.title('Work Order Actual_sla: Completed Past Due')\n",
    "plt.show()"
   ]
  },
  {
   "cell_type": "markdown",
   "metadata": {},
   "source": [
    "#### Relationship between Completed On time and Requestedfrom"
   ]
  },
  {
   "cell_type": "code",
   "execution_count": null,
   "metadata": {},
   "outputs": [],
   "source": [
    "plt.pie(df[((df['actual_sla'] == 'Completed On-Time')) & (df['requestedfrom'].isin(['Corp', 'CALLENTRY', 'PDA', 'CRS']))]['requestedfrom'].value_counts().reset_index().iloc[:,1], autopct = '%1.1f%%')\n",
    "plt.legend(df[((df['actual_sla'] == 'Completed On-Time')) & (df['requestedfrom'].isin(['Corp', 'CALLENTRY', 'PDA', 'CRS']))]['requestedfrom'].value_counts().reset_index().iloc[:,0])\n",
    "plt.title('Work Order Actual_sla: Completed On-Time')\n",
    "plt.show()"
   ]
  },
  {
   "cell_type": "markdown",
   "metadata": {},
   "source": [
    "#### Relationship between Completed Past due and Requestedfrom"
   ]
  },
  {
   "cell_type": "code",
   "execution_count": null,
   "metadata": {},
   "outputs": [],
   "source": [
    "plt.pie(df[((df['actual_sla'] == 'Completed Past Due')) & (df['requestedfrom'].isin(['Corp', 'CALLENTRY', 'PDA', 'CRS']))]['requestedfrom'].value_counts().reset_index().iloc[:,1], autopct = '%1.1f%%')\n",
    "plt.legend(df[((df['actual_sla'] == 'Completed Past Due')) & (df['requestedfrom'].isin(['Corp', 'CALLENTRY', 'PDA', 'CRS']))]['requestedfrom'].value_counts().reset_index().iloc[:,0])\n",
    "plt.title('Work Order Actual_sla: Completed Past Due')\n",
    "plt.show()"
   ]
  },
  {
   "cell_type": "markdown",
   "metadata": {},
   "source": [
    "### Multivariate relationship"
   ]
  },
  {
   "cell_type": "markdown",
   "metadata": {},
   "source": [
    "#### Relationship between Completed Past due + Priority vs employee/vendor assignment"
   ]
  },
  {
   "cell_type": "code",
   "execution_count": null,
   "metadata": {},
   "outputs": [],
   "source": [
    "plt.pie(df[(df['actual_sla'] == 'Completed Past Due') & (df['assignedemployee'].notna()) & (df['priority'].isin(['P1', 'P2', 'P3', 'P4', 'P5', 'P6', 'P9', 'AP1']))]['priority'].value_counts().reset_index().iloc[:, 1], autopct = '%1.1f%%')\n",
    "plt.legend(df[(df['actual_sla'] == 'Completed Past Due') & (df['assignedemployee'].notna()) & (df['priority'].isin(['P1', 'P2', 'P3', 'P4', 'P5', 'P6', 'P9', 'AP1']))]['priority'].value_counts().reset_index().iloc[:, 0])\n",
    "plt.title('Complted Past Due and Assigned to Employee')\n",
    "plt.show()"
   ]
  },
  {
   "cell_type": "code",
   "execution_count": null,
   "metadata": {},
   "outputs": [],
   "source": [
    "plt.pie(df[(df['actual_sla'] == 'Completed Past Due') & (df['assignedvendor'].notna()) & (df['priority'].isin(['P1', 'P2', 'P3', 'P4', 'P5', 'P6', 'P9', 'AP1']))]['priority'].value_counts().reset_index().iloc[:, 1], autopct = '%1.1f%%')\n",
    "plt.legend(df[(df['actual_sla'] == 'Completed Past Due') & (df['assignedvendor'].notna()) & (df['priority'].isin(['P1', 'P2', 'P3', 'P4', 'P5', 'P6', 'P9', 'AP1']))]['priority'].value_counts().reset_index().iloc[:, 0])\n",
    "plt.title('Complted Past Due and Assigned to Vendor')\n",
    "plt.show()"
   ]
  },
  {
   "cell_type": "code",
   "execution_count": null,
   "metadata": {},
   "outputs": [],
   "source": [
    "plt.hist(df[(df['actual_sla'] == 'Completed Past Due') & (df['assignedemployee'].notna()) & (df['priority'].isin(['P1', 'P2', 'P3', 'P4', 'P5', 'P6', 'P9', 'AP1']))]['priority'], alpha = 0.7)\n",
    "plt.hist(df[(df['actual_sla'] == 'Completed Past Due') & (df['assignedvendor'].notna()) & (df['priority'].isin(['P1', 'P2', 'P3', 'P4', 'P5', 'P6', 'P9', 'AP1']))]['priority'], alpha = 0.7)\n",
    "plt.show()"
   ]
  },
  {
   "cell_type": "markdown",
   "metadata": {},
   "source": [
    "## Old EDA"
   ]
  },
  {
   "cell_type": "code",
   "execution_count": null,
   "metadata": {},
   "outputs": [],
   "source": [
    "(df[(df['assignedemployee'].notna()) & (df['actual_sla'].isin(['Completed Past Due']))]['actual_sla']).count()/(df['assignedemployee'].notna().value_counts()[1]) *100\n",
    "# 8% of WO undertaken by employees are past due"
   ]
  },
  {
   "cell_type": "code",
   "execution_count": null,
   "metadata": {},
   "outputs": [],
   "source": [
    "(df[(df['assignedvendor'].notna()) & (df['actual_sla'].isin(['Completed Past Due']))]['actual_sla']).count()/(df['assignedvendor'].notna().value_counts()[1]) *100\n",
    "# 21% of WO undertaken by vendors are past due"
   ]
  },
  {
   "cell_type": "code",
   "execution_count": null,
   "metadata": {},
   "outputs": [],
   "source": [
    "df[df['actual_sla']== 'Cancelled']['requestedfrom'].unique()"
   ]
  },
  {
   "cell_type": "markdown",
   "metadata": {},
   "source": [
    "**EDA QUESTIONS** <br>\n",
    "1. For features with limited unique values, plot freq dist\n",
    "2. Find the relationship between Priority of work orders, person who requested it, employee who performed it, how long a task took to be completed (difficulty of task is neglected)"
   ]
  },
  {
   "cell_type": "code",
   "execution_count": null,
   "metadata": {},
   "outputs": [],
   "source": [
    "# Keep only relevant columns and drop Non- categorical, nominal features\n",
    "dfV1 = df[[\"assignedemployee\", \"priority\", \"datedispatched\", \"datetargetclose\", \"arrival\", \"departure\", \"site_address\", \"ordertype\", \"requestedby\", \"actual_sla\"]]"
   ]
  },
  {
   "cell_type": "code",
   "execution_count": null,
   "metadata": {},
   "outputs": [],
   "source": [
    "# Dataset dimensions\n",
    "print(len(dfV1))\n",
    "print(len(dfV1.columns))\n",
    "print(dfV1.shape)\n",
    "print(dfV1.size) # Shows a lot of empty cells"
   ]
  },
  {
   "cell_type": "code",
   "execution_count": null,
   "metadata": {},
   "outputs": [],
   "source": [
    "print(dfV1.isna().sum())\n",
    "print('--'*40)\n",
    "print(dfV1.isna().sum()/(dfV1.isna().sum() + dfV1.notna().sum()))\n",
    "\n",
    "# Large proportion of employee allocation is left empty\n",
    "    # No possible way to fill these cells as the feature is Nominal and non-categorical\n",
    "    # Drop that data\n",
    "# Rest of NA data is pretty small compared to whole data set, so can be dropped as well"
   ]
  },
  {
   "cell_type": "code",
   "execution_count": null,
   "metadata": {},
   "outputs": [],
   "source": [
    "# Glimpse NA rows\n",
    "# dfV1[dfV1['assignedemployee'].isna()]"
   ]
  },
  {
   "cell_type": "code",
   "execution_count": null,
   "metadata": {},
   "outputs": [],
   "source": [
    "# Glimpse end data\n",
    "# dfV1.tail(5)"
   ]
  },
  {
   "cell_type": "code",
   "execution_count": null,
   "metadata": {},
   "outputs": [],
   "source": [
    "dfV2 = dfV1.dropna(axis = 0)"
   ]
  },
  {
   "cell_type": "code",
   "execution_count": null,
   "metadata": {},
   "outputs": [],
   "source": [
    "# Dataset dimensions\n",
    "dfV2.shape"
   ]
  },
  {
   "cell_type": "code",
   "execution_count": null,
   "metadata": {},
   "outputs": [],
   "source": [
    "# Check all NA removed\n",
    "# print(dfV2.isna().sum()/(dfV2.isna().sum() + dfV2.notna().sum()))"
   ]
  },
  {
   "cell_type": "code",
   "execution_count": null,
   "metadata": {},
   "outputs": [],
   "source": [
    "# Glimpse end data\n",
    "# dfV2.tail(5)"
   ]
  },
  {
   "cell_type": "code",
   "execution_count": null,
   "metadata": {},
   "outputs": [],
   "source": [
    "dfV2.info()"
   ]
  },
  {
   "cell_type": "code",
   "execution_count": null,
   "metadata": {},
   "outputs": [],
   "source": [
    "# Add additional columns about \n",
    "# how long task was taken to complete\n",
    "# how long was allocated\n",
    "# how much buffer was left or by how much time was exceeded\n",
    "dfV2[\"timetakentocomplete\"] = dfV2[\"departure\"] - dfV2[\"arrival\"]\n",
    "dfV2[\"timeallocated\"] = dfV2[\"datetargetclose\"] - dfV2[\"datedispatched\"]\n",
    "dfV2[\"buffer\"] = dfV2[\"timeallocated\"] - dfV2[\"timetakentocomplete\"]"
   ]
  },
  {
   "cell_type": "code",
   "execution_count": null,
   "metadata": {},
   "outputs": [],
   "source": [
    "# Glimpse data\n",
    "# dfV2.head(20)"
   ]
  },
  {
   "cell_type": "code",
   "execution_count": null,
   "metadata": {},
   "outputs": [],
   "source": [
    "# Feature statistics and distribution\n",
    "dfV2.describe()\n",
    "# Ignore:\n",
    "# assigned employee: nominal data\n",
    "# Some clear outliers on all other 3 ratio data\n",
    "    # min & max"
   ]
  },
  {
   "cell_type": "code",
   "execution_count": null,
   "metadata": {},
   "outputs": [],
   "source": [
    "dfV2.nunique()\n",
    "# Priority, Ordertype, Actual_sla can be visualized"
   ]
  },
  {
   "cell_type": "code",
   "execution_count": null,
   "metadata": {},
   "outputs": [],
   "source": [
    "dfV2_1 = dfV2[dfV2.groupby('priority').priority.transform('count')>1000].copy()\n",
    "dfV2_1 = dfV2_1[dfV2.groupby('ordertype').priority.transform('count')>100]\n",
    "dfV2_1 = dfV2_1[dfV2.groupby('actual_sla').priority.transform('count')>1000]"
   ]
  },
  {
   "cell_type": "code",
   "execution_count": null,
   "metadata": {},
   "outputs": [],
   "source": [
    "pd.DataFrame(dfV2_1['priority'].value_counts()).plot(kind = 'bar', figsize = (20,10))\n",
    "pd.DataFrame(dfV2_1['ordertype'].value_counts()).plot(kind = 'bar', figsize = (20,10))\n",
    "pd.DataFrame(dfV2_1['actual_sla'].value_counts()).plot(kind = 'bar', figsize = (20,10))"
   ]
  },
  {
   "cell_type": "code",
   "execution_count": null,
   "metadata": {},
   "outputs": [],
   "source": [
    "# Drop actual timings\n",
    "dfV2_1 = dfV2_1.drop(['datedispatched', 'datetargetclose', 'arrival', 'departure'], axis = 1)"
   ]
  },
  {
   "cell_type": "code",
   "execution_count": null,
   "metadata": {},
   "outputs": [],
   "source": [
    "# Enumerate data to find relationship\n",
    "enumerateAssignedemployee = list(enumerate(list(dfV2_1['assignedemployee'].unique())))\n",
    "enumeratePriority = list(enumerate(list(dfV2_1['priority'].unique())))\n",
    "enumerateSite_address = list(enumerate(list(dfV2_1['site_address'].unique())))\n",
    "enumerateRequestedby = list(enumerate(list(dfV2_1['requestedby'].unique())))\n",
    "enumerateOrdertype = list(enumerate(list(dfV2_1['ordertype'].unique())))\n",
    "enumerateActual_sla = list(enumerate(list(dfV2_1['actual_sla'].unique())))\n",
    "\n",
    "# print(enumeratePriorityUnique)\n",
    "dictAssignedemployee = dict(enumerateAssignedemployee)\n",
    "dictPriority = dict(enumeratePriority)\n",
    "dictSite_address = dict(enumerateSite_address)\n",
    "dictRequestedby = dict(enumerateRequestedby)\n",
    "dictOrdertype = dict(enumerateOrdertype)\n",
    "dictActual_sla = dict(enumerateActual_sla)\n",
    "\n",
    "dictSwitchAssignedemployee = {y: x for x, y in dictAssignedemployee.items()}\n",
    "dictSwitchPriority = {y: x for x, y in dictPriority.items()}\n",
    "dictSwitchSite_address = {y: x for x, y in dictSite_address.items()}\n",
    "dictSwitchRequestedby = {y: x for x, y in dictRequestedby.items()}\n",
    "dictSwitchOrdertype = {y: x for x, y in dictOrdertype.items()}\n",
    "dictSwitchActual_sla = {y: x for x, y in dictActual_sla.items()}\n",
    "# print(dictPrioritySwitch)\n",
    "# print(dictSite_addressSwitch)\n",
    "# print(dictRequestedbySwitch)\n"
   ]
  },
  {
   "cell_type": "code",
   "execution_count": null,
   "metadata": {},
   "outputs": [],
   "source": [
    "dfV2_1[\"numAssignedemployee\"] = dfV2_1[\"assignedemployee\"]\n",
    "dfV2_1[\"numPriority\"] = dfV2_1[\"priority\"]\n",
    "dfV2_1[\"numSite_address\"] = dfV2_1[\"site_address\"]\n",
    "dfV2_1[\"numRequestedby\"] = dfV2_1[\"requestedby\"]\n",
    "dfV2_1[\"numOrdertype\"] = dfV2_1[\"ordertype\"]\n",
    "dfV2_1[\"numActual_sla\"] = dfV2_1[\"actual_sla\"]"
   ]
  },
  {
   "cell_type": "code",
   "execution_count": null,
   "metadata": {},
   "outputs": [],
   "source": [
    "# dfV3 = dfV2.replace({'numAssignedemployee' : dictSwitchAssignedemployee})\n",
    "dfV3 = dfV2_1.replace({'numPriority' : dictSwitchPriority})\n",
    "dfV3 = dfV3.replace({'numSite_address' : dictSwitchSite_address})\n",
    "\n",
    "dfV3['numAssignedemployee'] = dfV3['numAssignedemployee'].map(dictSwitchAssignedemployee)\n",
    "dfV3['numOrdertype'] = dfV3['numOrdertype'].map(dictSwitchOrdertype)\n",
    "dfV3['numActual_sla'] = dfV3['numActual_sla'].map(dictSwitchActual_sla)\n",
    "dfV3['numRequestedby'] = dfV3['numRequestedby'].map(dictSwitchRequestedby)\n"
   ]
  },
  {
   "cell_type": "code",
   "execution_count": null,
   "metadata": {},
   "outputs": [],
   "source": [
    "# dfV3"
   ]
  },
  {
   "cell_type": "code",
   "execution_count": null,
   "metadata": {},
   "outputs": [],
   "source": [
    "# Make new df with enumerated nominal data\n",
    "dfV4 = dfV3.drop(['assignedemployee', 'priority', 'site_address', 'ordertype', 'requestedby', 'actual_sla'], axis = 1)"
   ]
  },
  {
   "cell_type": "code",
   "execution_count": null,
   "metadata": {},
   "outputs": [],
   "source": [
    "dfV4.info()\n",
    "# print(dfV4.describe())\n",
    "# print(dfV4.nunique())"
   ]
  },
  {
   "cell_type": "code",
   "execution_count": null,
   "metadata": {},
   "outputs": [],
   "source": [
    "dfV4.nunique()"
   ]
  },
  {
   "cell_type": "code",
   "execution_count": null,
   "metadata": {},
   "outputs": [],
   "source": [
    "dfV4.describe()"
   ]
  },
  {
   "cell_type": "code",
   "execution_count": null,
   "metadata": {},
   "outputs": [],
   "source": [
    "correlation = dfV4.corr()"
   ]
  },
  {
   "cell_type": "code",
   "execution_count": null,
   "metadata": {},
   "outputs": [],
   "source": [
    "sns.pairplot(dfV4)"
   ]
  },
  {
   "cell_type": "markdown",
   "metadata": {},
   "source": []
  },
  {
   "cell_type": "markdown",
   "metadata": {},
   "source": [
    "### Analysis from pairplot\n",
    "1. ordertype is heavily one sided\n",
    "2. actual_sla is heavily one sided\n",
    "3. Decaying curve for most other features\n",
    "4. Certain requestors never request a certain ordertype\n",
    "5. Certain ordertypes come from only a few site_addresses\n",
    "6. No significant relationship between priority and actual_sla\n",
    "7. only a few employees are assigned a certain ordertype\n",
    "8. not all employees worked on all types of priorities\n",
    "9. Most requestors request work on almost all available sites; which means not one requestor is allocated to one site\n",
    "10. Almost all employees have worked on all available sites\n"
   ]
  },
  {
   "cell_type": "code",
   "execution_count": null,
   "metadata": {},
   "outputs": [],
   "source": [
    "sns.set(rc = {'figure.figsize':(15,8)})\n",
    "sns.heatmap(correlation, xticklabels= correlation.columns, yticklabels= correlation.columns,\n",
    "            annot= True)"
   ]
  },
  {
   "cell_type": "markdown",
   "metadata": {},
   "source": [
    "### Analysis from heatmap\n",
    "1. highest correlation seems to be between work order requestor and work order assigned to employee; requestor might have a preference\n",
    "2. lowest correlation seems to be between ordertype and actual_sla; regardless what type of order (preventative or corrective, etc.) there is no impact on whether the work is done on time or not"
   ]
  },
  {
   "cell_type": "markdown",
   "metadata": {},
   "source": [
    "---"
   ]
  },
  {
   "cell_type": "code",
   "execution_count": null,
   "metadata": {},
   "outputs": [],
   "source": [
    "dfV5 = df"
   ]
  },
  {
   "cell_type": "code",
   "execution_count": null,
   "metadata": {},
   "outputs": [],
   "source": [
    "# Dataset dimensions\n",
    "print(len(dfV5))\n",
    "print(len(dfV5.columns))\n",
    "print(dfV5.shape)\n",
    "print(dfV5.columns)"
   ]
  },
  {
   "cell_type": "code",
   "execution_count": null,
   "metadata": {},
   "outputs": [],
   "source": [
    "dfV5['problemdesciptionTrimmed'] = dfV5['problemdescription'].str.split(pat='>', expand = True, n= 1)[1]"
   ]
  },
  {
   "cell_type": "code",
   "execution_count": null,
   "metadata": {},
   "outputs": [],
   "source": [
    "dfV5['problemdesciptionTrimmed']"
   ]
  }
 ],
 "metadata": {
  "kernelspec": {
   "display_name": "Python 3",
   "language": "python",
   "name": "python3"
  },
  "language_info": {
   "codemirror_mode": {
    "name": "ipython",
    "version": 3
   },
   "file_extension": ".py",
   "mimetype": "text/x-python",
   "name": "python",
   "nbconvert_exporter": "python",
   "pygments_lexer": "ipython3",
   "version": "3.6.13"
  },
  "orig_nbformat": 4
 },
 "nbformat": 4,
 "nbformat_minor": 2
}
